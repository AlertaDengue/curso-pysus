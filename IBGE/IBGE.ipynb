{
 "cells": [
  {
   "cell_type": "markdown",
   "source": [
    "<a href=\"https://colab.research.google.com/github/AlertaDengue/curso-pysus/blob/main/IBGE/IBGE.ipynb\" target=\"_parent\"><img src=\"https://colab.research.google.com/assets/colab-badge.svg\" alt=\"Open In Colab\"/></a>\n",
    "# Explorando e Baixando dados do IBGE\n",
    "O PySUS simplifica o acesso a bases de dados do IBGE que são relevants para análise de dados de saúde. Neste notebook vamos explorar as bases disponíveis e baixar algumas delas. "
   ],
   "metadata": {
    "collapsed": false
   },
   "id": "347a1416e5edf439"
  },
  {
   "cell_type": "code",
   "execution_count": 46,
   "id": "initial_id",
   "metadata": {
    "collapsed": true,
    "ExecuteTime": {
     "end_time": "2023-12-05T13:44:17.564116565Z",
     "start_time": "2023-12-05T13:44:17.559561359Z"
    }
   },
   "outputs": [],
   "source": [
    "import pandas as pd\n",
    "from pysus.online_data import IBGE\n",
    "\n",
    "import ipywidgets as widgets\n",
    "from ipywidgets import interact\n",
    "%matplotlib inline"
   ]
  },
  {
   "cell_type": "markdown",
   "source": [
    "O IBGE chama de agregados os conjuntos de dados associados a uma pesquisa."
   ],
   "metadata": {
    "collapsed": false
   },
   "id": "bd579ccb576f49"
  },
  {
   "cell_type": "code",
   "execution_count": 4,
   "outputs": [],
   "source": [
    "IBGE.list_agregados?"
   ],
   "metadata": {
    "collapsed": false,
    "ExecuteTime": {
     "end_time": "2023-12-05T13:05:00.526319283Z",
     "start_time": "2023-12-05T13:05:00.473152851Z"
    }
   },
   "id": "56e4f427a2c4f1c6"
  },
  {
   "cell_type": "code",
   "execution_count": 3,
   "outputs": [
    {
     "name": "stdout",
     "output_type": "stream",
     "text": [
      "Fetching Data groupings from https://servicodados.ibge.gov.br/api/v3/agregados?\n"
     ]
    },
    {
     "data": {
      "text/plain": "   id                                               nome  \\\n0  D5                                  Áreas Urbanizadas   \n1  CL                       Cadastro Central de Empresas   \n2  CA                                 Censo Agropecuário   \n3  ME           Censo Comum do Mercosul, Bolívia e Chile   \n4  CD                                  Censo Demográfico   \n5  CM                             Contagem da População    \n6  DU  Contas de ecossistemas: o uso da terra nos bio...   \n7  DT                      Contas de Espécies Ameaçadas    \n8  C4               Contas Econômicas Ambientais da Água   \n9  DR  Contas Econômicas Ambientais da Terra: Contabi...   \n\n                                           agregados  \n0  [{'id': '8418', 'nome': 'Áreas urbanizadas, Lo...  \n1  [{'id': '1685', 'nome': 'Unidades locais, empr...  \n2  [{'id': '1005', 'nome': 'Número de estabelecim...  \n3  [{'id': '1221', 'nome': 'População residente, ...  \n4  [{'id': '102', 'nome': 'Mulheres de 10 anos ou...  \n5  [{'id': '305', 'nome': 'População residente em...  \n6  [{'id': '7016', 'nome': 'Contas de extensão do...  \n7  [{'id': '7392', 'nome': 'Número de espécies da...  \n8  [{'id': '6834', 'nome': 'Total de Recursos Híd...  \n9  [{'id': '7319', 'nome': 'Estoque, por classes ...  ",
      "text/html": "<div>\n<style scoped>\n    .dataframe tbody tr th:only-of-type {\n        vertical-align: middle;\n    }\n\n    .dataframe tbody tr th {\n        vertical-align: top;\n    }\n\n    .dataframe thead th {\n        text-align: right;\n    }\n</style>\n<table border=\"1\" class=\"dataframe\">\n  <thead>\n    <tr style=\"text-align: right;\">\n      <th></th>\n      <th>id</th>\n      <th>nome</th>\n      <th>agregados</th>\n    </tr>\n  </thead>\n  <tbody>\n    <tr>\n      <th>0</th>\n      <td>D5</td>\n      <td>Áreas Urbanizadas</td>\n      <td>[{'id': '8418', 'nome': 'Áreas urbanizadas, Lo...</td>\n    </tr>\n    <tr>\n      <th>1</th>\n      <td>CL</td>\n      <td>Cadastro Central de Empresas</td>\n      <td>[{'id': '1685', 'nome': 'Unidades locais, empr...</td>\n    </tr>\n    <tr>\n      <th>2</th>\n      <td>CA</td>\n      <td>Censo Agropecuário</td>\n      <td>[{'id': '1005', 'nome': 'Número de estabelecim...</td>\n    </tr>\n    <tr>\n      <th>3</th>\n      <td>ME</td>\n      <td>Censo Comum do Mercosul, Bolívia e Chile</td>\n      <td>[{'id': '1221', 'nome': 'População residente, ...</td>\n    </tr>\n    <tr>\n      <th>4</th>\n      <td>CD</td>\n      <td>Censo Demográfico</td>\n      <td>[{'id': '102', 'nome': 'Mulheres de 10 anos ou...</td>\n    </tr>\n    <tr>\n      <th>5</th>\n      <td>CM</td>\n      <td>Contagem da População</td>\n      <td>[{'id': '305', 'nome': 'População residente em...</td>\n    </tr>\n    <tr>\n      <th>6</th>\n      <td>DU</td>\n      <td>Contas de ecossistemas: o uso da terra nos bio...</td>\n      <td>[{'id': '7016', 'nome': 'Contas de extensão do...</td>\n    </tr>\n    <tr>\n      <th>7</th>\n      <td>DT</td>\n      <td>Contas de Espécies Ameaçadas</td>\n      <td>[{'id': '7392', 'nome': 'Número de espécies da...</td>\n    </tr>\n    <tr>\n      <th>8</th>\n      <td>C4</td>\n      <td>Contas Econômicas Ambientais da Água</td>\n      <td>[{'id': '6834', 'nome': 'Total de Recursos Híd...</td>\n    </tr>\n    <tr>\n      <th>9</th>\n      <td>DR</td>\n      <td>Contas Econômicas Ambientais da Terra: Contabi...</td>\n      <td>[{'id': '7319', 'nome': 'Estoque, por classes ...</td>\n    </tr>\n  </tbody>\n</table>\n</div>"
     },
     "execution_count": 3,
     "metadata": {},
     "output_type": "execute_result"
    }
   ],
   "source": [
    "ag = IBGE.list_agregados()\n",
    "ag.head(10)"
   ],
   "metadata": {
    "collapsed": false,
    "ExecuteTime": {
     "end_time": "2023-12-05T13:02:04.209524845Z",
     "start_time": "2023-12-05T13:02:03.629046555Z"
    }
   },
   "id": "38d194631c845215"
  },
  {
   "cell_type": "markdown",
   "source": [
    "A linha 4 na tabela acima refere-se a uma categoria de \"Censo Demográfico\" cujo *ID* é *CD*. Esta categoria diversos agregados."
   ],
   "metadata": {
    "collapsed": false
   },
   "id": "5cd4d3e75601132e"
  },
  {
   "cell_type": "code",
   "execution_count": 36,
   "outputs": [
    {
     "data": {
      "text/plain": "938"
     },
     "execution_count": 36,
     "metadata": {},
     "output_type": "execute_result"
    }
   ],
   "source": [
    "lista_CD_ag = ag[ag.id=='CD'].agregados.iloc[0]\n",
    "len(lista_CD_ag)"
   ],
   "metadata": {
    "collapsed": false,
    "ExecuteTime": {
     "end_time": "2023-12-05T13:32:40.348517319Z",
     "start_time": "2023-12-05T13:32:40.343887258Z"
    }
   },
   "id": "8268debb3a4da3e6"
  },
  {
   "cell_type": "code",
   "execution_count": 39,
   "outputs": [
    {
     "data": {
      "text/plain": "     id                                               nome\n0   102  Mulheres de 10 anos ou mais de idade, que vivi...\n1   103  Mulheres de 10 anos ou mais de idade, que vivi...\n2   105  Filhos tidos nascidos vivos das mulheres de 10...\n3   107  Mulheres de 10 anos ou mais de idade, que tive...\n4   108  Mulheres de 10 anos ou mais de idade, resident...\n5  1134  Domicílios particulares permanentes, por situa...\n6  1161  Domicílios particulares permanentes, por situa...\n7  1206  Pessoas de 10 anos ou mais de idade, por estad...\n8  1209                     População, por grupos de idade\n9  1211  Domicílios particulares permanentes e Moradore...",
      "text/html": "<div>\n<style scoped>\n    .dataframe tbody tr th:only-of-type {\n        vertical-align: middle;\n    }\n\n    .dataframe tbody tr th {\n        vertical-align: top;\n    }\n\n    .dataframe thead th {\n        text-align: right;\n    }\n</style>\n<table border=\"1\" class=\"dataframe\">\n  <thead>\n    <tr style=\"text-align: right;\">\n      <th></th>\n      <th>id</th>\n      <th>nome</th>\n    </tr>\n  </thead>\n  <tbody>\n    <tr>\n      <th>0</th>\n      <td>102</td>\n      <td>Mulheres de 10 anos ou mais de idade, que vivi...</td>\n    </tr>\n    <tr>\n      <th>1</th>\n      <td>103</td>\n      <td>Mulheres de 10 anos ou mais de idade, que vivi...</td>\n    </tr>\n    <tr>\n      <th>2</th>\n      <td>105</td>\n      <td>Filhos tidos nascidos vivos das mulheres de 10...</td>\n    </tr>\n    <tr>\n      <th>3</th>\n      <td>107</td>\n      <td>Mulheres de 10 anos ou mais de idade, que tive...</td>\n    </tr>\n    <tr>\n      <th>4</th>\n      <td>108</td>\n      <td>Mulheres de 10 anos ou mais de idade, resident...</td>\n    </tr>\n    <tr>\n      <th>5</th>\n      <td>1134</td>\n      <td>Domicílios particulares permanentes, por situa...</td>\n    </tr>\n    <tr>\n      <th>6</th>\n      <td>1161</td>\n      <td>Domicílios particulares permanentes, por situa...</td>\n    </tr>\n    <tr>\n      <th>7</th>\n      <td>1206</td>\n      <td>Pessoas de 10 anos ou mais de idade, por estad...</td>\n    </tr>\n    <tr>\n      <th>8</th>\n      <td>1209</td>\n      <td>População, por grupos de idade</td>\n    </tr>\n    <tr>\n      <th>9</th>\n      <td>1211</td>\n      <td>Domicílios particulares permanentes e Moradore...</td>\n    </tr>\n  </tbody>\n</table>\n</div>"
     },
     "execution_count": 39,
     "metadata": {},
     "output_type": "execute_result"
    }
   ],
   "source": [
    "cd_ag = pd.DataFrame(lista_CD_ag)\n",
    "cd_ag.head(10)"
   ],
   "metadata": {
    "collapsed": false,
    "ExecuteTime": {
     "end_time": "2023-12-05T13:35:26.098395466Z",
     "start_time": "2023-12-05T13:35:26.079313595Z"
    }
   },
   "id": "cb1f8336d1955bbb"
  },
  {
   "cell_type": "code",
   "execution_count": 49,
   "outputs": [
    {
     "data": {
      "text/plain": "interactive(children=(Dropdown(description='Agregado:', index=5, options=(('Mulheres de 10 anos ou mais de ida…",
      "application/vnd.jupyter.widget-view+json": {
       "version_major": 2,
       "version_minor": 0,
       "model_id": "12ce24e0f8d443de939ced1e145a6a9a"
      }
     },
     "metadata": {},
     "output_type": "display_data"
    }
   ],
   "source": [
    "opts= [(r.nome, int(r.id)) for r in cd_ag.itertuples()]\n",
    "ds = widgets.Dropdown(\n",
    "    options=opts,\n",
    "    value=1134,\n",
    "    description='Agregado:',\n",
    ")\n",
    "# display(ds)\n",
    "@interact\n",
    "def show_metadados(id=ds):\n",
    "    IBGE.metadados(id.value)    "
   ],
   "metadata": {
    "collapsed": false,
    "ExecuteTime": {
     "end_time": "2023-12-05T13:46:45.700204431Z",
     "start_time": "2023-12-05T13:46:45.653980767Z"
    }
   },
   "id": "60f2771ad1db07a2"
  },
  {
   "cell_type": "markdown",
   "source": [
    "Para cada um dos agregados, podemos listar os períodos disponíveis."
   ],
   "metadata": {
    "collapsed": false
   },
   "id": "9b1c2ef0bd1bd1ee"
  },
  {
   "cell_type": "code",
   "execution_count": 51,
   "outputs": [
    {
     "data": {
      "text/plain": "      id literals modificacao\n0   1872   [1872]  29/04/2009\n1   1890   [1890]  08/02/2010\n2   1900   [1900]  29/04/2009\n3   1920   [1920]  29/04/2009\n4   1940   [1940]  29/04/2009\n5   1950   [1950]  29/04/2009\n6   1960   [1960]  29/04/2009\n7   1970   [1970]  29/04/2009\n8   1980   [1980]  29/04/2009\n9   1991   [1991]  29/04/2009\n10  2000   [2000]  29/04/2009\n11  2010   [2010]  26/10/2023\n12  2022   [2022]  27/10/2023",
      "text/html": "<div>\n<style scoped>\n    .dataframe tbody tr th:only-of-type {\n        vertical-align: middle;\n    }\n\n    .dataframe tbody tr th {\n        vertical-align: top;\n    }\n\n    .dataframe thead th {\n        text-align: right;\n    }\n</style>\n<table border=\"1\" class=\"dataframe\">\n  <thead>\n    <tr style=\"text-align: right;\">\n      <th></th>\n      <th>id</th>\n      <th>literals</th>\n      <th>modificacao</th>\n    </tr>\n  </thead>\n  <tbody>\n    <tr>\n      <th>0</th>\n      <td>1872</td>\n      <td>[1872]</td>\n      <td>29/04/2009</td>\n    </tr>\n    <tr>\n      <th>1</th>\n      <td>1890</td>\n      <td>[1890]</td>\n      <td>08/02/2010</td>\n    </tr>\n    <tr>\n      <th>2</th>\n      <td>1900</td>\n      <td>[1900]</td>\n      <td>29/04/2009</td>\n    </tr>\n    <tr>\n      <th>3</th>\n      <td>1920</td>\n      <td>[1920]</td>\n      <td>29/04/2009</td>\n    </tr>\n    <tr>\n      <th>4</th>\n      <td>1940</td>\n      <td>[1940]</td>\n      <td>29/04/2009</td>\n    </tr>\n    <tr>\n      <th>5</th>\n      <td>1950</td>\n      <td>[1950]</td>\n      <td>29/04/2009</td>\n    </tr>\n    <tr>\n      <th>6</th>\n      <td>1960</td>\n      <td>[1960]</td>\n      <td>29/04/2009</td>\n    </tr>\n    <tr>\n      <th>7</th>\n      <td>1970</td>\n      <td>[1970]</td>\n      <td>29/04/2009</td>\n    </tr>\n    <tr>\n      <th>8</th>\n      <td>1980</td>\n      <td>[1980]</td>\n      <td>29/04/2009</td>\n    </tr>\n    <tr>\n      <th>9</th>\n      <td>1991</td>\n      <td>[1991]</td>\n      <td>29/04/2009</td>\n    </tr>\n    <tr>\n      <th>10</th>\n      <td>2000</td>\n      <td>[2000]</td>\n      <td>29/04/2009</td>\n    </tr>\n    <tr>\n      <th>11</th>\n      <td>2010</td>\n      <td>[2010]</td>\n      <td>26/10/2023</td>\n    </tr>\n    <tr>\n      <th>12</th>\n      <td>2022</td>\n      <td>[2022]</td>\n      <td>27/10/2023</td>\n    </tr>\n  </tbody>\n</table>\n</div>"
     },
     "execution_count": 51,
     "metadata": {},
     "output_type": "execute_result"
    }
   ],
   "source": [
    "IBGE.lista_periodos(1209)\n",
    "\n"
   ],
   "metadata": {
    "collapsed": false,
    "ExecuteTime": {
     "end_time": "2023-12-05T13:50:52.058352963Z",
     "start_time": "2023-12-05T13:50:51.824070558Z"
    }
   },
   "id": "57fdc63974125223"
  },
  {
   "cell_type": "markdown",
   "source": [
    "podemos tambem explorar a cobertura espacial de cada agregado."
   ],
   "metadata": {
    "collapsed": false
   },
   "id": "15ad5a74e5d86d3e"
  },
  {
   "cell_type": "code",
   "execution_count": 53,
   "outputs": [
    {
     "data": {
      "text/plain": "    id                 nome                                         nivel\n0   11             Rondônia  {'id': 'N3', 'nome': 'Unidade da Federação'}\n1   12                 Acre  {'id': 'N3', 'nome': 'Unidade da Federação'}\n2   13             Amazonas  {'id': 'N3', 'nome': 'Unidade da Federação'}\n3   14              Roraima  {'id': 'N3', 'nome': 'Unidade da Federação'}\n4   15                 Pará  {'id': 'N3', 'nome': 'Unidade da Federação'}\n5   16                Amapá  {'id': 'N3', 'nome': 'Unidade da Federação'}\n6   17            Tocantins  {'id': 'N3', 'nome': 'Unidade da Federação'}\n7   21             Maranhão  {'id': 'N3', 'nome': 'Unidade da Federação'}\n8   22                Piauí  {'id': 'N3', 'nome': 'Unidade da Federação'}\n9   23                Ceará  {'id': 'N3', 'nome': 'Unidade da Federação'}\n10  24  Rio Grande do Norte  {'id': 'N3', 'nome': 'Unidade da Federação'}\n11  25              Paraíba  {'id': 'N3', 'nome': 'Unidade da Federação'}\n12  26           Pernambuco  {'id': 'N3', 'nome': 'Unidade da Federação'}\n13  27              Alagoas  {'id': 'N3', 'nome': 'Unidade da Federação'}\n14  28              Sergipe  {'id': 'N3', 'nome': 'Unidade da Federação'}\n15  29                Bahia  {'id': 'N3', 'nome': 'Unidade da Federação'}\n16  31         Minas Gerais  {'id': 'N3', 'nome': 'Unidade da Federação'}\n17  32       Espírito Santo  {'id': 'N3', 'nome': 'Unidade da Federação'}\n18  33       Rio de Janeiro  {'id': 'N3', 'nome': 'Unidade da Federação'}\n19  35            São Paulo  {'id': 'N3', 'nome': 'Unidade da Federação'}\n20  41               Paraná  {'id': 'N3', 'nome': 'Unidade da Federação'}\n21  42       Santa Catarina  {'id': 'N3', 'nome': 'Unidade da Federação'}\n22  43    Rio Grande do Sul  {'id': 'N3', 'nome': 'Unidade da Federação'}\n23  50   Mato Grosso do Sul  {'id': 'N3', 'nome': 'Unidade da Federação'}\n24  51          Mato Grosso  {'id': 'N3', 'nome': 'Unidade da Federação'}\n25  52                Goiás  {'id': 'N3', 'nome': 'Unidade da Federação'}\n26  53     Distrito Federal  {'id': 'N3', 'nome': 'Unidade da Federação'}",
      "text/html": "<div>\n<style scoped>\n    .dataframe tbody tr th:only-of-type {\n        vertical-align: middle;\n    }\n\n    .dataframe tbody tr th {\n        vertical-align: top;\n    }\n\n    .dataframe thead th {\n        text-align: right;\n    }\n</style>\n<table border=\"1\" class=\"dataframe\">\n  <thead>\n    <tr style=\"text-align: right;\">\n      <th></th>\n      <th>id</th>\n      <th>nome</th>\n      <th>nivel</th>\n    </tr>\n  </thead>\n  <tbody>\n    <tr>\n      <th>0</th>\n      <td>11</td>\n      <td>Rondônia</td>\n      <td>{'id': 'N3', 'nome': 'Unidade da Federação'}</td>\n    </tr>\n    <tr>\n      <th>1</th>\n      <td>12</td>\n      <td>Acre</td>\n      <td>{'id': 'N3', 'nome': 'Unidade da Federação'}</td>\n    </tr>\n    <tr>\n      <th>2</th>\n      <td>13</td>\n      <td>Amazonas</td>\n      <td>{'id': 'N3', 'nome': 'Unidade da Federação'}</td>\n    </tr>\n    <tr>\n      <th>3</th>\n      <td>14</td>\n      <td>Roraima</td>\n      <td>{'id': 'N3', 'nome': 'Unidade da Federação'}</td>\n    </tr>\n    <tr>\n      <th>4</th>\n      <td>15</td>\n      <td>Pará</td>\n      <td>{'id': 'N3', 'nome': 'Unidade da Federação'}</td>\n    </tr>\n    <tr>\n      <th>5</th>\n      <td>16</td>\n      <td>Amapá</td>\n      <td>{'id': 'N3', 'nome': 'Unidade da Federação'}</td>\n    </tr>\n    <tr>\n      <th>6</th>\n      <td>17</td>\n      <td>Tocantins</td>\n      <td>{'id': 'N3', 'nome': 'Unidade da Federação'}</td>\n    </tr>\n    <tr>\n      <th>7</th>\n      <td>21</td>\n      <td>Maranhão</td>\n      <td>{'id': 'N3', 'nome': 'Unidade da Federação'}</td>\n    </tr>\n    <tr>\n      <th>8</th>\n      <td>22</td>\n      <td>Piauí</td>\n      <td>{'id': 'N3', 'nome': 'Unidade da Federação'}</td>\n    </tr>\n    <tr>\n      <th>9</th>\n      <td>23</td>\n      <td>Ceará</td>\n      <td>{'id': 'N3', 'nome': 'Unidade da Federação'}</td>\n    </tr>\n    <tr>\n      <th>10</th>\n      <td>24</td>\n      <td>Rio Grande do Norte</td>\n      <td>{'id': 'N3', 'nome': 'Unidade da Federação'}</td>\n    </tr>\n    <tr>\n      <th>11</th>\n      <td>25</td>\n      <td>Paraíba</td>\n      <td>{'id': 'N3', 'nome': 'Unidade da Federação'}</td>\n    </tr>\n    <tr>\n      <th>12</th>\n      <td>26</td>\n      <td>Pernambuco</td>\n      <td>{'id': 'N3', 'nome': 'Unidade da Federação'}</td>\n    </tr>\n    <tr>\n      <th>13</th>\n      <td>27</td>\n      <td>Alagoas</td>\n      <td>{'id': 'N3', 'nome': 'Unidade da Federação'}</td>\n    </tr>\n    <tr>\n      <th>14</th>\n      <td>28</td>\n      <td>Sergipe</td>\n      <td>{'id': 'N3', 'nome': 'Unidade da Federação'}</td>\n    </tr>\n    <tr>\n      <th>15</th>\n      <td>29</td>\n      <td>Bahia</td>\n      <td>{'id': 'N3', 'nome': 'Unidade da Federação'}</td>\n    </tr>\n    <tr>\n      <th>16</th>\n      <td>31</td>\n      <td>Minas Gerais</td>\n      <td>{'id': 'N3', 'nome': 'Unidade da Federação'}</td>\n    </tr>\n    <tr>\n      <th>17</th>\n      <td>32</td>\n      <td>Espírito Santo</td>\n      <td>{'id': 'N3', 'nome': 'Unidade da Federação'}</td>\n    </tr>\n    <tr>\n      <th>18</th>\n      <td>33</td>\n      <td>Rio de Janeiro</td>\n      <td>{'id': 'N3', 'nome': 'Unidade da Federação'}</td>\n    </tr>\n    <tr>\n      <th>19</th>\n      <td>35</td>\n      <td>São Paulo</td>\n      <td>{'id': 'N3', 'nome': 'Unidade da Federação'}</td>\n    </tr>\n    <tr>\n      <th>20</th>\n      <td>41</td>\n      <td>Paraná</td>\n      <td>{'id': 'N3', 'nome': 'Unidade da Federação'}</td>\n    </tr>\n    <tr>\n      <th>21</th>\n      <td>42</td>\n      <td>Santa Catarina</td>\n      <td>{'id': 'N3', 'nome': 'Unidade da Federação'}</td>\n    </tr>\n    <tr>\n      <th>22</th>\n      <td>43</td>\n      <td>Rio Grande do Sul</td>\n      <td>{'id': 'N3', 'nome': 'Unidade da Federação'}</td>\n    </tr>\n    <tr>\n      <th>23</th>\n      <td>50</td>\n      <td>Mato Grosso do Sul</td>\n      <td>{'id': 'N3', 'nome': 'Unidade da Federação'}</td>\n    </tr>\n    <tr>\n      <th>24</th>\n      <td>51</td>\n      <td>Mato Grosso</td>\n      <td>{'id': 'N3', 'nome': 'Unidade da Federação'}</td>\n    </tr>\n    <tr>\n      <th>25</th>\n      <td>52</td>\n      <td>Goiás</td>\n      <td>{'id': 'N3', 'nome': 'Unidade da Federação'}</td>\n    </tr>\n    <tr>\n      <th>26</th>\n      <td>53</td>\n      <td>Distrito Federal</td>\n      <td>{'id': 'N3', 'nome': 'Unidade da Federação'}</td>\n    </tr>\n  </tbody>\n</table>\n</div>"
     },
     "execution_count": 53,
     "metadata": {},
     "output_type": "execute_result"
    }
   ],
   "source": [
    "IBGE.localidades_por_agregado(1209, nivel='N3')"
   ],
   "metadata": {
    "collapsed": false,
    "ExecuteTime": {
     "end_time": "2023-12-05T13:53:38.120718731Z",
     "start_time": "2023-12-05T13:53:37.928254433Z"
    }
   },
   "id": "7fd68c841de492d"
  },
  {
   "cell_type": "markdown",
   "source": [
    "## Baixando os dados\n",
    "Até agora só exploramos os dados existentes e seus metadados. Vamos agora baixar alguns dados."
   ],
   "metadata": {
    "collapsed": false
   },
   "id": "959ee5f557565700"
  },
  {
   "cell_type": "code",
   "execution_count": 69,
   "outputs": [
    {
     "name": "stdout",
     "output_type": "stream",
     "text": [
      "Fetching https://servicodados.ibge.gov.br/api/v3/agregados/475/periodos/1996/variaveis/93?localidades=N3[all]&classificacao=58[all]|2[4,5]|1[all]&view=flat\n"
     ]
    },
    {
     "data": {
      "text/plain": "{'NC': 'Nível Territorial (Código)',\n 'NN': 'Nível Territorial',\n 'MC': 'Unidade de Medida (Código)',\n 'MN': 'Unidade de Medida',\n 'V': 'Valor',\n 'D1C': 'Unidade da Federação (Código)',\n 'D1N': 'Unidade da Federação',\n 'D2C': 'Ano (Código)',\n 'D2N': 'Ano',\n 'D3C': 'Variável (Código)',\n 'D3N': 'Variável',\n 'D4C': 'Grupo de idade (Código)',\n 'D4N': 'Grupo de idade',\n 'D5C': 'Sexo (Código)',\n 'D5N': 'Sexo',\n 'D6C': 'Situação do domicílio (Código)',\n 'D6N': 'Situação do domicílio'}"
     },
     "execution_count": 69,
     "metadata": {},
     "output_type": "execute_result"
    }
   ],
   "source": [
    "ds = IBGE.FetchData(475,periodos=1996,variavel=93,localidades='N3[all]',\n",
    "                              classificacao='58[all]|2[4,5]|1[all]',view='flat')\n",
    "ds.JSON[0]\n"
   ],
   "metadata": {
    "collapsed": false,
    "ExecuteTime": {
     "end_time": "2023-12-05T17:02:51.662235061Z",
     "start_time": "2023-12-05T17:02:51.320401599Z"
    }
   },
   "id": "e7cb837660fe193c"
  },
  {
   "cell_type": "code",
   "execution_count": 71,
   "outputs": [
    {
     "data": {
      "text/plain": "                           NC                    NN  \\\n0  Nível Territorial (Código)     Nível Territorial   \n1                           3  Unidade da Federação   \n2                           3  Unidade da Federação   \n3                           3  Unidade da Federação   \n4                           3  Unidade da Federação   \n\n                           MC                 MN       V  \\\n0  Unidade de Medida (Código)  Unidade de Medida   Valor   \n1                          45            Pessoas  633594   \n2                          45            Pessoas  380119   \n3                          45            Pessoas  253475   \n4                          45            Pessoas  595712   \n\n                             D1C                   D1N           D2C   D2N  \\\n0  Unidade da Federação (Código)  Unidade da Federação  Ano (Código)   Ano   \n1                             11              Rondônia          1996  1996   \n2                             11              Rondônia          1996  1996   \n3                             11              Rondônia          1996  1996   \n4                             11              Rondônia          1996  1996   \n\n                 D3C                  D3N                      D4C  \\\n0  Variável (Código)             Variável  Grupo de idade (Código)   \n1                 93  População residente                        0   \n2                 93  População residente                        0   \n3                 93  População residente                        0   \n4                 93  População residente                        0   \n\n              D4N            D5C       D5N                             D6C  \\\n0  Grupo de idade  Sexo (Código)      Sexo  Situação do domicílio (Código)   \n1           Total              4    Homens                               0   \n2           Total              4    Homens                               1   \n3           Total              4    Homens                               2   \n4           Total              5  Mulheres                               0   \n\n                     D6N  \n0  Situação do domicílio  \n1                  Total  \n2                 Urbana  \n3                  Rural  \n4                  Total  ",
      "text/html": "<div>\n<style scoped>\n    .dataframe tbody tr th:only-of-type {\n        vertical-align: middle;\n    }\n\n    .dataframe tbody tr th {\n        vertical-align: top;\n    }\n\n    .dataframe thead th {\n        text-align: right;\n    }\n</style>\n<table border=\"1\" class=\"dataframe\">\n  <thead>\n    <tr style=\"text-align: right;\">\n      <th></th>\n      <th>NC</th>\n      <th>NN</th>\n      <th>MC</th>\n      <th>MN</th>\n      <th>V</th>\n      <th>D1C</th>\n      <th>D1N</th>\n      <th>D2C</th>\n      <th>D2N</th>\n      <th>D3C</th>\n      <th>D3N</th>\n      <th>D4C</th>\n      <th>D4N</th>\n      <th>D5C</th>\n      <th>D5N</th>\n      <th>D6C</th>\n      <th>D6N</th>\n    </tr>\n  </thead>\n  <tbody>\n    <tr>\n      <th>0</th>\n      <td>Nível Territorial (Código)</td>\n      <td>Nível Territorial</td>\n      <td>Unidade de Medida (Código)</td>\n      <td>Unidade de Medida</td>\n      <td>Valor</td>\n      <td>Unidade da Federação (Código)</td>\n      <td>Unidade da Federação</td>\n      <td>Ano (Código)</td>\n      <td>Ano</td>\n      <td>Variável (Código)</td>\n      <td>Variável</td>\n      <td>Grupo de idade (Código)</td>\n      <td>Grupo de idade</td>\n      <td>Sexo (Código)</td>\n      <td>Sexo</td>\n      <td>Situação do domicílio (Código)</td>\n      <td>Situação do domicílio</td>\n    </tr>\n    <tr>\n      <th>1</th>\n      <td>3</td>\n      <td>Unidade da Federação</td>\n      <td>45</td>\n      <td>Pessoas</td>\n      <td>633594</td>\n      <td>11</td>\n      <td>Rondônia</td>\n      <td>1996</td>\n      <td>1996</td>\n      <td>93</td>\n      <td>População residente</td>\n      <td>0</td>\n      <td>Total</td>\n      <td>4</td>\n      <td>Homens</td>\n      <td>0</td>\n      <td>Total</td>\n    </tr>\n    <tr>\n      <th>2</th>\n      <td>3</td>\n      <td>Unidade da Federação</td>\n      <td>45</td>\n      <td>Pessoas</td>\n      <td>380119</td>\n      <td>11</td>\n      <td>Rondônia</td>\n      <td>1996</td>\n      <td>1996</td>\n      <td>93</td>\n      <td>População residente</td>\n      <td>0</td>\n      <td>Total</td>\n      <td>4</td>\n      <td>Homens</td>\n      <td>1</td>\n      <td>Urbana</td>\n    </tr>\n    <tr>\n      <th>3</th>\n      <td>3</td>\n      <td>Unidade da Federação</td>\n      <td>45</td>\n      <td>Pessoas</td>\n      <td>253475</td>\n      <td>11</td>\n      <td>Rondônia</td>\n      <td>1996</td>\n      <td>1996</td>\n      <td>93</td>\n      <td>População residente</td>\n      <td>0</td>\n      <td>Total</td>\n      <td>4</td>\n      <td>Homens</td>\n      <td>2</td>\n      <td>Rural</td>\n    </tr>\n    <tr>\n      <th>4</th>\n      <td>3</td>\n      <td>Unidade da Federação</td>\n      <td>45</td>\n      <td>Pessoas</td>\n      <td>595712</td>\n      <td>11</td>\n      <td>Rondônia</td>\n      <td>1996</td>\n      <td>1996</td>\n      <td>93</td>\n      <td>População residente</td>\n      <td>0</td>\n      <td>Total</td>\n      <td>5</td>\n      <td>Mulheres</td>\n      <td>0</td>\n      <td>Total</td>\n    </tr>\n  </tbody>\n</table>\n</div>"
     },
     "execution_count": 71,
     "metadata": {},
     "output_type": "execute_result"
    }
   ],
   "source": [
    "ds.to_dataframe().head()"
   ],
   "metadata": {
    "collapsed": false,
    "ExecuteTime": {
     "end_time": "2023-12-05T17:03:20.557101360Z",
     "start_time": "2023-12-05T17:03:20.536491809Z"
    }
   },
   "id": "e034f94f3da01da6"
  },
  {
   "cell_type": "markdown",
   "source": [
    "## Acessando a API SIDRA\n",
    "A SIDRA é uma API do IBGE que permite acesso a dados de diversas pesquisas. O PySUS permite acesso a esta API.\n",
    "A tabela 200 é uma amostra da população residente no Brasil. o \"territorial_level\" indica o nível geográfico da tabela. O nível 6 indica municípios. A classificação 2 indica que a tabela é desagregada por sexo e a categoria \"all\" indica que queremos todos os valores de sexo."
   ],
   "metadata": {
    "collapsed": false
   },
   "id": "fe8bb12b7dd50900"
  },
  {
   "cell_type": "code",
   "execution_count": 72,
   "outputs": [
    {
     "name": "stdout",
     "output_type": "stream",
     "text": [
      "Requesting data from https://apisidra.ibge.gov.br/values/t/200/n6/all/c2/all\n"
     ]
    },
    {
     "data": {
      "text/plain": "                               NC                 NN  \\\n0      Nível Territorial (Código)  Nível Territorial   \n1                               6          Município   \n2                               6          Município   \n3                               6          Município   \n4                               6          Município   \n...                           ...                ...   \n16691                           6          Município   \n16692                           6          Município   \n16693                           6          Município   \n16694                           6          Município   \n16695                           6          Município   \n\n                               MC                 MN        V  \\\n0      Unidade de Medida (Código)  Unidade de Medida    Valor   \n1                              45            Pessoas    24392   \n2                              45            Pessoas    12656   \n3                              45            Pessoas    11736   \n4                              45            Pessoas    90353   \n...                           ...                ...      ...   \n16691                          45            Pessoas     2689   \n16692                          45            Pessoas     2456   \n16693                          45            Pessoas  2570160   \n16694                          45            Pessoas  1228880   \n16695                          45            Pessoas  1341280   \n\n                      D1C                         D1N            D2C  \\\n0      Município (Código)                   Município  Sexo (Código)   \n1                 1100015  Alta Floresta D'Oeste - RO              0   \n2                 1100015  Alta Floresta D'Oeste - RO              4   \n3                 1100015  Alta Floresta D'Oeste - RO              5   \n4                 1100023              Ariquemes - RO              0   \n...                   ...                         ...            ...   \n16691             5222302          Vila Propício - GO              4   \n16692             5222302          Vila Propício - GO              5   \n16693             5300108               Brasília - DF              0   \n16694             5300108               Brasília - DF              4   \n16695             5300108               Brasília - DF              5   \n\n            D2N           D3C   D3N                D4C                  D4N  \\\n0          Sexo  Ano (Código)   Ano  Variável (Código)             Variável   \n1         Total          2010  2010                 93  População residente   \n2        Homens          2010  2010                 93  População residente   \n3      Mulheres          2010  2010                 93  População residente   \n4         Total          2010  2010                 93  População residente   \n...         ...           ...   ...                ...                  ...   \n16691    Homens          2010  2010                 93  População residente   \n16692  Mulheres          2010  2010                 93  População residente   \n16693     Total          2010  2010                 93  População residente   \n16694    Homens          2010  2010                 93  População residente   \n16695  Mulheres          2010  2010                 93  População residente   \n\n                                  D5C                    D5N  \\\n0      Situação do domicílio (Código)  Situação do domicílio   \n1                                   0                  Total   \n2                                   0                  Total   \n3                                   0                  Total   \n4                                   0                  Total   \n...                               ...                    ...   \n16691                               0                  Total   \n16692                               0                  Total   \n16693                               0                  Total   \n16694                               0                  Total   \n16695                               0                  Total   \n\n                           D6C             D6N  \n0      Grupo de idade (Código)  Grupo de idade  \n1                            0           Total  \n2                            0           Total  \n3                            0           Total  \n4                            0           Total  \n...                        ...             ...  \n16691                        0           Total  \n16692                        0           Total  \n16693                        0           Total  \n16694                        0           Total  \n16695                        0           Total  \n\n[16696 rows x 17 columns]",
      "text/html": "<div>\n<style scoped>\n    .dataframe tbody tr th:only-of-type {\n        vertical-align: middle;\n    }\n\n    .dataframe tbody tr th {\n        vertical-align: top;\n    }\n\n    .dataframe thead th {\n        text-align: right;\n    }\n</style>\n<table border=\"1\" class=\"dataframe\">\n  <thead>\n    <tr style=\"text-align: right;\">\n      <th></th>\n      <th>NC</th>\n      <th>NN</th>\n      <th>MC</th>\n      <th>MN</th>\n      <th>V</th>\n      <th>D1C</th>\n      <th>D1N</th>\n      <th>D2C</th>\n      <th>D2N</th>\n      <th>D3C</th>\n      <th>D3N</th>\n      <th>D4C</th>\n      <th>D4N</th>\n      <th>D5C</th>\n      <th>D5N</th>\n      <th>D6C</th>\n      <th>D6N</th>\n    </tr>\n  </thead>\n  <tbody>\n    <tr>\n      <th>0</th>\n      <td>Nível Territorial (Código)</td>\n      <td>Nível Territorial</td>\n      <td>Unidade de Medida (Código)</td>\n      <td>Unidade de Medida</td>\n      <td>Valor</td>\n      <td>Município (Código)</td>\n      <td>Município</td>\n      <td>Sexo (Código)</td>\n      <td>Sexo</td>\n      <td>Ano (Código)</td>\n      <td>Ano</td>\n      <td>Variável (Código)</td>\n      <td>Variável</td>\n      <td>Situação do domicílio (Código)</td>\n      <td>Situação do domicílio</td>\n      <td>Grupo de idade (Código)</td>\n      <td>Grupo de idade</td>\n    </tr>\n    <tr>\n      <th>1</th>\n      <td>6</td>\n      <td>Município</td>\n      <td>45</td>\n      <td>Pessoas</td>\n      <td>24392</td>\n      <td>1100015</td>\n      <td>Alta Floresta D'Oeste - RO</td>\n      <td>0</td>\n      <td>Total</td>\n      <td>2010</td>\n      <td>2010</td>\n      <td>93</td>\n      <td>População residente</td>\n      <td>0</td>\n      <td>Total</td>\n      <td>0</td>\n      <td>Total</td>\n    </tr>\n    <tr>\n      <th>2</th>\n      <td>6</td>\n      <td>Município</td>\n      <td>45</td>\n      <td>Pessoas</td>\n      <td>12656</td>\n      <td>1100015</td>\n      <td>Alta Floresta D'Oeste - RO</td>\n      <td>4</td>\n      <td>Homens</td>\n      <td>2010</td>\n      <td>2010</td>\n      <td>93</td>\n      <td>População residente</td>\n      <td>0</td>\n      <td>Total</td>\n      <td>0</td>\n      <td>Total</td>\n    </tr>\n    <tr>\n      <th>3</th>\n      <td>6</td>\n      <td>Município</td>\n      <td>45</td>\n      <td>Pessoas</td>\n      <td>11736</td>\n      <td>1100015</td>\n      <td>Alta Floresta D'Oeste - RO</td>\n      <td>5</td>\n      <td>Mulheres</td>\n      <td>2010</td>\n      <td>2010</td>\n      <td>93</td>\n      <td>População residente</td>\n      <td>0</td>\n      <td>Total</td>\n      <td>0</td>\n      <td>Total</td>\n    </tr>\n    <tr>\n      <th>4</th>\n      <td>6</td>\n      <td>Município</td>\n      <td>45</td>\n      <td>Pessoas</td>\n      <td>90353</td>\n      <td>1100023</td>\n      <td>Ariquemes - RO</td>\n      <td>0</td>\n      <td>Total</td>\n      <td>2010</td>\n      <td>2010</td>\n      <td>93</td>\n      <td>População residente</td>\n      <td>0</td>\n      <td>Total</td>\n      <td>0</td>\n      <td>Total</td>\n    </tr>\n    <tr>\n      <th>...</th>\n      <td>...</td>\n      <td>...</td>\n      <td>...</td>\n      <td>...</td>\n      <td>...</td>\n      <td>...</td>\n      <td>...</td>\n      <td>...</td>\n      <td>...</td>\n      <td>...</td>\n      <td>...</td>\n      <td>...</td>\n      <td>...</td>\n      <td>...</td>\n      <td>...</td>\n      <td>...</td>\n      <td>...</td>\n    </tr>\n    <tr>\n      <th>16691</th>\n      <td>6</td>\n      <td>Município</td>\n      <td>45</td>\n      <td>Pessoas</td>\n      <td>2689</td>\n      <td>5222302</td>\n      <td>Vila Propício - GO</td>\n      <td>4</td>\n      <td>Homens</td>\n      <td>2010</td>\n      <td>2010</td>\n      <td>93</td>\n      <td>População residente</td>\n      <td>0</td>\n      <td>Total</td>\n      <td>0</td>\n      <td>Total</td>\n    </tr>\n    <tr>\n      <th>16692</th>\n      <td>6</td>\n      <td>Município</td>\n      <td>45</td>\n      <td>Pessoas</td>\n      <td>2456</td>\n      <td>5222302</td>\n      <td>Vila Propício - GO</td>\n      <td>5</td>\n      <td>Mulheres</td>\n      <td>2010</td>\n      <td>2010</td>\n      <td>93</td>\n      <td>População residente</td>\n      <td>0</td>\n      <td>Total</td>\n      <td>0</td>\n      <td>Total</td>\n    </tr>\n    <tr>\n      <th>16693</th>\n      <td>6</td>\n      <td>Município</td>\n      <td>45</td>\n      <td>Pessoas</td>\n      <td>2570160</td>\n      <td>5300108</td>\n      <td>Brasília - DF</td>\n      <td>0</td>\n      <td>Total</td>\n      <td>2010</td>\n      <td>2010</td>\n      <td>93</td>\n      <td>População residente</td>\n      <td>0</td>\n      <td>Total</td>\n      <td>0</td>\n      <td>Total</td>\n    </tr>\n    <tr>\n      <th>16694</th>\n      <td>6</td>\n      <td>Município</td>\n      <td>45</td>\n      <td>Pessoas</td>\n      <td>1228880</td>\n      <td>5300108</td>\n      <td>Brasília - DF</td>\n      <td>4</td>\n      <td>Homens</td>\n      <td>2010</td>\n      <td>2010</td>\n      <td>93</td>\n      <td>População residente</td>\n      <td>0</td>\n      <td>Total</td>\n      <td>0</td>\n      <td>Total</td>\n    </tr>\n    <tr>\n      <th>16695</th>\n      <td>6</td>\n      <td>Município</td>\n      <td>45</td>\n      <td>Pessoas</td>\n      <td>1341280</td>\n      <td>5300108</td>\n      <td>Brasília - DF</td>\n      <td>5</td>\n      <td>Mulheres</td>\n      <td>2010</td>\n      <td>2010</td>\n      <td>93</td>\n      <td>População residente</td>\n      <td>0</td>\n      <td>Total</td>\n      <td>0</td>\n      <td>Total</td>\n    </tr>\n  </tbody>\n</table>\n<p>16696 rows × 17 columns</p>\n</div>"
     },
     "execution_count": 72,
     "metadata": {},
     "output_type": "execute_result"
    }
   ],
   "source": [
    "df = IBGE.get_sidra_table(200,territorial_level=6,classification=2, categories='all')\n",
    "df.head()"
   ],
   "metadata": {
    "collapsed": false,
    "ExecuteTime": {
     "end_time": "2023-12-05T17:05:35.421592421Z",
     "start_time": "2023-12-05T17:04:23.837995273Z"
    }
   },
   "id": "6d360c15cbe32591"
  },
  {
   "cell_type": "markdown",
   "source": [
    "Se quesermos baixar os dados de apenas um município, basta passarmos o geocódigo na consulta."
   ],
   "metadata": {
    "collapsed": false
   },
   "id": "b827e2914129b066"
  },
  {
   "cell_type": "code",
   "execution_count": 75,
   "outputs": [
    {
     "name": "stdout",
     "output_type": "stream",
     "text": [
      "Requesting data from https://apisidra.ibge.gov.br/values/t/200/n6/3303302/p/last/c2/all\n"
     ]
    },
    {
     "data": {
      "text/plain": "                           NC                 NN                          MC  \\\n0  Nível Territorial (Código)  Nível Territorial  Unidade de Medida (Código)   \n1                           6          Município                          45   \n2                           6          Município                          45   \n3                           6          Município                          45   \n\n                  MN       V                 D1C           D1N           D2C  \\\n0  Unidade de Medida   Valor  Município (Código)     Município  Ano (Código)   \n1            Pessoas  487562             3303302  Niterói (RJ)          2010   \n2            Pessoas  225838             3303302  Niterói (RJ)          2010   \n3            Pessoas  261724             3303302  Niterói (RJ)          2010   \n\n    D2N            D3C       D3N                D4C                  D4N  \\\n0   Ano  Sexo (Código)      Sexo  Variável (Código)             Variável   \n1  2010              0     Total                 93  População residente   \n2  2010              4    Homens                 93  População residente   \n3  2010              5  Mulheres                 93  População residente   \n\n                              D5C                    D5N  \\\n0  Situação do domicílio (Código)  Situação do domicílio   \n1                               0                  Total   \n2                               0                  Total   \n3                               0                  Total   \n\n                       D6C             D6N  \n0  Grupo de idade (Código)  Grupo de idade  \n1                        0           Total  \n2                        0           Total  \n3                        0           Total  ",
      "text/html": "<div>\n<style scoped>\n    .dataframe tbody tr th:only-of-type {\n        vertical-align: middle;\n    }\n\n    .dataframe tbody tr th {\n        vertical-align: top;\n    }\n\n    .dataframe thead th {\n        text-align: right;\n    }\n</style>\n<table border=\"1\" class=\"dataframe\">\n  <thead>\n    <tr style=\"text-align: right;\">\n      <th></th>\n      <th>NC</th>\n      <th>NN</th>\n      <th>MC</th>\n      <th>MN</th>\n      <th>V</th>\n      <th>D1C</th>\n      <th>D1N</th>\n      <th>D2C</th>\n      <th>D2N</th>\n      <th>D3C</th>\n      <th>D3N</th>\n      <th>D4C</th>\n      <th>D4N</th>\n      <th>D5C</th>\n      <th>D5N</th>\n      <th>D6C</th>\n      <th>D6N</th>\n    </tr>\n  </thead>\n  <tbody>\n    <tr>\n      <th>0</th>\n      <td>Nível Territorial (Código)</td>\n      <td>Nível Territorial</td>\n      <td>Unidade de Medida (Código)</td>\n      <td>Unidade de Medida</td>\n      <td>Valor</td>\n      <td>Município (Código)</td>\n      <td>Município</td>\n      <td>Ano (Código)</td>\n      <td>Ano</td>\n      <td>Sexo (Código)</td>\n      <td>Sexo</td>\n      <td>Variável (Código)</td>\n      <td>Variável</td>\n      <td>Situação do domicílio (Código)</td>\n      <td>Situação do domicílio</td>\n      <td>Grupo de idade (Código)</td>\n      <td>Grupo de idade</td>\n    </tr>\n    <tr>\n      <th>1</th>\n      <td>6</td>\n      <td>Município</td>\n      <td>45</td>\n      <td>Pessoas</td>\n      <td>487562</td>\n      <td>3303302</td>\n      <td>Niterói (RJ)</td>\n      <td>2010</td>\n      <td>2010</td>\n      <td>0</td>\n      <td>Total</td>\n      <td>93</td>\n      <td>População residente</td>\n      <td>0</td>\n      <td>Total</td>\n      <td>0</td>\n      <td>Total</td>\n    </tr>\n    <tr>\n      <th>2</th>\n      <td>6</td>\n      <td>Município</td>\n      <td>45</td>\n      <td>Pessoas</td>\n      <td>225838</td>\n      <td>3303302</td>\n      <td>Niterói (RJ)</td>\n      <td>2010</td>\n      <td>2010</td>\n      <td>4</td>\n      <td>Homens</td>\n      <td>93</td>\n      <td>População residente</td>\n      <td>0</td>\n      <td>Total</td>\n      <td>0</td>\n      <td>Total</td>\n    </tr>\n    <tr>\n      <th>3</th>\n      <td>6</td>\n      <td>Município</td>\n      <td>45</td>\n      <td>Pessoas</td>\n      <td>261724</td>\n      <td>3303302</td>\n      <td>Niterói (RJ)</td>\n      <td>2010</td>\n      <td>2010</td>\n      <td>5</td>\n      <td>Mulheres</td>\n      <td>93</td>\n      <td>População residente</td>\n      <td>0</td>\n      <td>Total</td>\n      <td>0</td>\n      <td>Total</td>\n    </tr>\n  </tbody>\n</table>\n</div>"
     },
     "execution_count": 75,
     "metadata": {},
     "output_type": "execute_result"
    }
   ],
   "source": [
    "data = IBGE.get_sidra_table(200,territorial_level=6, geocode=3303302,period='last',classification=2, categories='all')\n",
    "data"
   ],
   "metadata": {
    "collapsed": false,
    "ExecuteTime": {
     "end_time": "2023-12-05T17:19:26.893875242Z",
     "start_time": "2023-12-05T17:19:26.544364303Z"
    }
   },
   "id": "da169e16e230710e"
  },
  {
   "cell_type": "code",
   "execution_count": null,
   "outputs": [],
   "source": [],
   "metadata": {
    "collapsed": false
   },
   "id": "8ab4dc7ff43373c2"
  }
 ],
 "metadata": {
  "kernelspec": {
   "display_name": "Python 3",
   "language": "python",
   "name": "python3"
  },
  "language_info": {
   "codemirror_mode": {
    "name": "ipython",
    "version": 2
   },
   "file_extension": ".py",
   "mimetype": "text/x-python",
   "name": "python",
   "nbconvert_exporter": "python",
   "pygments_lexer": "ipython2",
   "version": "2.7.6"
  }
 },
 "nbformat": 4,
 "nbformat_minor": 5
}
