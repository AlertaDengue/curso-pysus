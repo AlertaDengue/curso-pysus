{
 "cells": [
  {
   "cell_type": "markdown",
   "source": [
    "<a href=\"https://colab.research.google.com/github/AlertaDengue/curso-pysus/blob/main/IBGE/IBGE.ipynb\" target=\"_parent\"><img src=\"https://colab.research.google.com/assets/colab-badge.svg\" alt=\"Open In Colab\"/></a>\n",
    "# Explorando e Baixando dados do IBGE\n",
    "O PySUS simplifica o acesso a bases de dados do IBGE que são relevants para análise de dados de saúde. Neste notebook vamos explorar as bases disponíveis e baixar algumas delas. "
   ],
   "metadata": {
    "collapsed": false
   },
   "id": "347a1416e5edf439"
  },
  {
   "cell_type": "code",
   "execution_count": 1,
   "id": "initial_id",
   "metadata": {
    "collapsed": true,
    "ExecuteTime": {
     "end_time": "2023-12-05T12:59:15.336312210Z",
     "start_time": "2023-12-05T12:59:13.731967270Z"
    }
   },
   "outputs": [],
   "source": [
    "import pandas as pd\n",
    "from pysus.online_data import IBGE\n",
    "\n",
    "import ipywidgets as widgets\n",
    "%matplotlib inline"
   ]
  },
  {
   "cell_type": "markdown",
   "source": [
    "O IBGE chama de agregados os conjuntos de dados associados a uma pesquisa."
   ],
   "metadata": {
    "collapsed": false
   },
   "id": "bd579ccb576f49"
  },
  {
   "cell_type": "code",
   "execution_count": 4,
   "outputs": [],
   "source": [
    "IBGE.list_agregados?"
   ],
   "metadata": {
    "collapsed": false,
    "ExecuteTime": {
     "end_time": "2023-12-05T13:05:00.526319283Z",
     "start_time": "2023-12-05T13:05:00.473152851Z"
    }
   },
   "id": "56e4f427a2c4f1c6"
  },
  {
   "cell_type": "code",
   "execution_count": 3,
   "outputs": [
    {
     "name": "stdout",
     "output_type": "stream",
     "text": [
      "Fetching Data groupings from https://servicodados.ibge.gov.br/api/v3/agregados?\n"
     ]
    },
    {
     "data": {
      "text/plain": "   id                                               nome  \\\n0  D5                                  Áreas Urbanizadas   \n1  CL                       Cadastro Central de Empresas   \n2  CA                                 Censo Agropecuário   \n3  ME           Censo Comum do Mercosul, Bolívia e Chile   \n4  CD                                  Censo Demográfico   \n5  CM                             Contagem da População    \n6  DU  Contas de ecossistemas: o uso da terra nos bio...   \n7  DT                      Contas de Espécies Ameaçadas    \n8  C4               Contas Econômicas Ambientais da Água   \n9  DR  Contas Econômicas Ambientais da Terra: Contabi...   \n\n                                           agregados  \n0  [{'id': '8418', 'nome': 'Áreas urbanizadas, Lo...  \n1  [{'id': '1685', 'nome': 'Unidades locais, empr...  \n2  [{'id': '1005', 'nome': 'Número de estabelecim...  \n3  [{'id': '1221', 'nome': 'População residente, ...  \n4  [{'id': '102', 'nome': 'Mulheres de 10 anos ou...  \n5  [{'id': '305', 'nome': 'População residente em...  \n6  [{'id': '7016', 'nome': 'Contas de extensão do...  \n7  [{'id': '7392', 'nome': 'Número de espécies da...  \n8  [{'id': '6834', 'nome': 'Total de Recursos Híd...  \n9  [{'id': '7319', 'nome': 'Estoque, por classes ...  ",
      "text/html": "<div>\n<style scoped>\n    .dataframe tbody tr th:only-of-type {\n        vertical-align: middle;\n    }\n\n    .dataframe tbody tr th {\n        vertical-align: top;\n    }\n\n    .dataframe thead th {\n        text-align: right;\n    }\n</style>\n<table border=\"1\" class=\"dataframe\">\n  <thead>\n    <tr style=\"text-align: right;\">\n      <th></th>\n      <th>id</th>\n      <th>nome</th>\n      <th>agregados</th>\n    </tr>\n  </thead>\n  <tbody>\n    <tr>\n      <th>0</th>\n      <td>D5</td>\n      <td>Áreas Urbanizadas</td>\n      <td>[{'id': '8418', 'nome': 'Áreas urbanizadas, Lo...</td>\n    </tr>\n    <tr>\n      <th>1</th>\n      <td>CL</td>\n      <td>Cadastro Central de Empresas</td>\n      <td>[{'id': '1685', 'nome': 'Unidades locais, empr...</td>\n    </tr>\n    <tr>\n      <th>2</th>\n      <td>CA</td>\n      <td>Censo Agropecuário</td>\n      <td>[{'id': '1005', 'nome': 'Número de estabelecim...</td>\n    </tr>\n    <tr>\n      <th>3</th>\n      <td>ME</td>\n      <td>Censo Comum do Mercosul, Bolívia e Chile</td>\n      <td>[{'id': '1221', 'nome': 'População residente, ...</td>\n    </tr>\n    <tr>\n      <th>4</th>\n      <td>CD</td>\n      <td>Censo Demográfico</td>\n      <td>[{'id': '102', 'nome': 'Mulheres de 10 anos ou...</td>\n    </tr>\n    <tr>\n      <th>5</th>\n      <td>CM</td>\n      <td>Contagem da População</td>\n      <td>[{'id': '305', 'nome': 'População residente em...</td>\n    </tr>\n    <tr>\n      <th>6</th>\n      <td>DU</td>\n      <td>Contas de ecossistemas: o uso da terra nos bio...</td>\n      <td>[{'id': '7016', 'nome': 'Contas de extensão do...</td>\n    </tr>\n    <tr>\n      <th>7</th>\n      <td>DT</td>\n      <td>Contas de Espécies Ameaçadas</td>\n      <td>[{'id': '7392', 'nome': 'Número de espécies da...</td>\n    </tr>\n    <tr>\n      <th>8</th>\n      <td>C4</td>\n      <td>Contas Econômicas Ambientais da Água</td>\n      <td>[{'id': '6834', 'nome': 'Total de Recursos Híd...</td>\n    </tr>\n    <tr>\n      <th>9</th>\n      <td>DR</td>\n      <td>Contas Econômicas Ambientais da Terra: Contabi...</td>\n      <td>[{'id': '7319', 'nome': 'Estoque, por classes ...</td>\n    </tr>\n  </tbody>\n</table>\n</div>"
     },
     "execution_count": 3,
     "metadata": {},
     "output_type": "execute_result"
    }
   ],
   "source": [
    "ag = IBGE.list_agregados()\n",
    "ag.head(10)"
   ],
   "metadata": {
    "collapsed": false,
    "ExecuteTime": {
     "end_time": "2023-12-05T13:02:04.209524845Z",
     "start_time": "2023-12-05T13:02:03.629046555Z"
    }
   },
   "id": "38d194631c845215"
  },
  {
   "cell_type": "markdown",
   "source": [
    "A linha 4 na tabela acima refere-se a uma categoria de \"Censo Demográfico\" cujo *ID* é *CD*. Esta categoria diversos agregados."
   ],
   "metadata": {
    "collapsed": false
   },
   "id": "5cd4d3e75601132e"
  },
  {
   "cell_type": "code",
   "execution_count": 36,
   "outputs": [
    {
     "data": {
      "text/plain": "938"
     },
     "execution_count": 36,
     "metadata": {},
     "output_type": "execute_result"
    }
   ],
   "source": [
    "lista_CD_ag = ag[ag.id=='CD'].agregados.iloc[0]\n",
    "len(lista_CD_ag)"
   ],
   "metadata": {
    "collapsed": false,
    "ExecuteTime": {
     "end_time": "2023-12-05T13:32:40.348517319Z",
     "start_time": "2023-12-05T13:32:40.343887258Z"
    }
   },
   "id": "8268debb3a4da3e6"
  },
  {
   "cell_type": "code",
   "execution_count": 39,
   "outputs": [
    {
     "data": {
      "text/plain": "     id                                               nome\n0   102  Mulheres de 10 anos ou mais de idade, que vivi...\n1   103  Mulheres de 10 anos ou mais de idade, que vivi...\n2   105  Filhos tidos nascidos vivos das mulheres de 10...\n3   107  Mulheres de 10 anos ou mais de idade, que tive...\n4   108  Mulheres de 10 anos ou mais de idade, resident...\n5  1134  Domicílios particulares permanentes, por situa...\n6  1161  Domicílios particulares permanentes, por situa...\n7  1206  Pessoas de 10 anos ou mais de idade, por estad...\n8  1209                     População, por grupos de idade\n9  1211  Domicílios particulares permanentes e Moradore...",
      "text/html": "<div>\n<style scoped>\n    .dataframe tbody tr th:only-of-type {\n        vertical-align: middle;\n    }\n\n    .dataframe tbody tr th {\n        vertical-align: top;\n    }\n\n    .dataframe thead th {\n        text-align: right;\n    }\n</style>\n<table border=\"1\" class=\"dataframe\">\n  <thead>\n    <tr style=\"text-align: right;\">\n      <th></th>\n      <th>id</th>\n      <th>nome</th>\n    </tr>\n  </thead>\n  <tbody>\n    <tr>\n      <th>0</th>\n      <td>102</td>\n      <td>Mulheres de 10 anos ou mais de idade, que vivi...</td>\n    </tr>\n    <tr>\n      <th>1</th>\n      <td>103</td>\n      <td>Mulheres de 10 anos ou mais de idade, que vivi...</td>\n    </tr>\n    <tr>\n      <th>2</th>\n      <td>105</td>\n      <td>Filhos tidos nascidos vivos das mulheres de 10...</td>\n    </tr>\n    <tr>\n      <th>3</th>\n      <td>107</td>\n      <td>Mulheres de 10 anos ou mais de idade, que tive...</td>\n    </tr>\n    <tr>\n      <th>4</th>\n      <td>108</td>\n      <td>Mulheres de 10 anos ou mais de idade, resident...</td>\n    </tr>\n    <tr>\n      <th>5</th>\n      <td>1134</td>\n      <td>Domicílios particulares permanentes, por situa...</td>\n    </tr>\n    <tr>\n      <th>6</th>\n      <td>1161</td>\n      <td>Domicílios particulares permanentes, por situa...</td>\n    </tr>\n    <tr>\n      <th>7</th>\n      <td>1206</td>\n      <td>Pessoas de 10 anos ou mais de idade, por estad...</td>\n    </tr>\n    <tr>\n      <th>8</th>\n      <td>1209</td>\n      <td>População, por grupos de idade</td>\n    </tr>\n    <tr>\n      <th>9</th>\n      <td>1211</td>\n      <td>Domicílios particulares permanentes e Moradore...</td>\n    </tr>\n  </tbody>\n</table>\n</div>"
     },
     "execution_count": 39,
     "metadata": {},
     "output_type": "execute_result"
    }
   ],
   "source": [
    "cd_ag = pd.DataFrame(lista_CD_ag)\n",
    "cd_ag.head(10)"
   ],
   "metadata": {
    "collapsed": false,
    "ExecuteTime": {
     "end_time": "2023-12-05T13:35:26.098395466Z",
     "start_time": "2023-12-05T13:35:26.079313595Z"
    }
   },
   "id": "cb1f8336d1955bbb"
  },
  {
   "cell_type": "code",
   "execution_count": 43,
   "outputs": [
    {
     "data": {
      "text/plain": "Dropdown(description='Number:', index=5, options=(('Mulheres de 10 anos ou mais de idade, que viviam em união …",
      "application/vnd.jupyter.widget-view+json": {
       "version_major": 2,
       "version_minor": 0,
       "model_id": "da1791bd590b4c43821432b5d7146ab5"
      }
     },
     "metadata": {},
     "output_type": "display_data"
    },
    {
     "data": {
      "text/plain": "{'statusCode': 500, 'message': 'Internal server error'}"
     },
     "execution_count": 43,
     "metadata": {},
     "output_type": "execute_result"
    }
   ],
   "source": [
    "opts= [(r.nome, int(r.id)) for r in cd_ag.itertuples()]\n",
    "ds = widgets.Dropdown(\n",
    "    options=opts,\n",
    "    value=1134,\n",
    "    description='Agregado:',\n",
    ")\n",
    "display(ds)\n",
    "IBGE.metadados(ds.value)"
   ],
   "metadata": {
    "collapsed": false,
    "ExecuteTime": {
     "end_time": "2023-12-05T13:39:36.332246337Z",
     "start_time": "2023-12-05T13:37:56.157318444Z"
    }
   },
   "id": "60f2771ad1db07a2"
  },
  {
   "cell_type": "code",
   "execution_count": null,
   "outputs": [],
   "source": [],
   "metadata": {
    "collapsed": false
   },
   "id": "57fdc63974125223"
  }
 ],
 "metadata": {
  "kernelspec": {
   "display_name": "Python 3",
   "language": "python",
   "name": "python3"
  },
  "language_info": {
   "codemirror_mode": {
    "name": "ipython",
    "version": 2
   },
   "file_extension": ".py",
   "mimetype": "text/x-python",
   "name": "python",
   "nbconvert_exporter": "python",
   "pygments_lexer": "ipython2",
   "version": "2.7.6"
  }
 },
 "nbformat": 4,
 "nbformat_minor": 5
}
