{
 "cells": [
  {
   "cell_type": "markdown",
   "source": [
    "<a href=\"https://colab.research.google.com/github/AlertaDengue/curso-pysus/blob/main/Infos/Infodengue.ipynb\" target=\"_parent\"><img src=\"https://colab.research.google.com/assets/colab-badge.svg\" alt=\"Open In Colab\"/></a>\n",
    "# Acessando os dados do Infodengue\n",
    "O PySUS facilita também o acesso aos dados do [Infodengue](https://info.dengue.mat.br)."
   ],
   "metadata": {
    "collapsed": false
   },
   "id": "37ba7a636ae291ac"
  },
  {
   "cell_type": "code",
   "execution_count": 1,
   "outputs": [],
   "source": [
    "from pysus.online_data.Infodengue import search_string, download\n"
   ],
   "metadata": {
    "collapsed": false,
    "ExecuteTime": {
     "end_time": "2023-12-05T17:22:52.510963308Z",
     "start_time": "2023-12-05T17:22:52.089919857Z"
    }
   },
   "id": "bd31b18e70f5a777"
  },
  {
   "cell_type": "markdown",
   "source": [
    "## Buscando dados de uma cidade específica\n",
    "O Infodengue fornece análise para todos os municípios do Brasil. Para se certificar uma cidade específica está comptemplada, basta passar o nome da cidade como parâmetro para a função `search_string`."
   ],
   "metadata": {
    "collapsed": false
   },
   "id": "39f1139a4d112edc"
  },
  {
   "cell_type": "code",
   "execution_count": 4,
   "outputs": [
    {
     "data": {
      "text/plain": "{'Arroio do Meio': 4301008,\n 'Granjeiro': 2304806,\n 'Jerônimo Monteiro': 3203106,\n 'Minador do Negrão': 2705309,\n 'Rio Branco': 5107206,\n 'Rio Claro': 3304409,\n 'Rio Grande': 4315602,\n 'Rio Largo': 2707701,\n 'Rio Manso': 3155306,\n 'Rio Negrinho': 4215000,\n 'Rio Negro': 4122305,\n 'Rio Pardo': 4315701,\n 'Rio da Conceição': 1718659,\n 'Rio das Antas': 4214409,\n 'Rio de Janeiro': 3304557,\n 'Rio do Antônio': 2926806,\n 'Rio do Pires': 2926905,\n 'Rio dos Cedros': 4214706,\n 'Rodeiro': 3156304,\n 'Roteiro': 2707800}"
     },
     "execution_count": 4,
     "metadata": {},
     "output_type": "execute_result"
    }
   ],
   "source": [
    "search_string('Rio d janeiro')"
   ],
   "metadata": {
    "collapsed": false,
    "ExecuteTime": {
     "end_time": "2023-11-30T16:58:08.574810923Z",
     "start_time": "2023-11-30T16:58:08.544312969Z"
    }
   },
   "id": "9a82aef1131fce3f"
  },
  {
   "cell_type": "markdown",
   "source": [
    "## Baixando um período específico"
   ],
   "metadata": {
    "collapsed": false
   },
   "id": "d622c5ed3c954f93"
  },
  {
   "cell_type": "code",
   "execution_count": 6,
   "outputs": [
    {
     "data": {
      "text/plain": "        data_iniSE casos_est casos_est_min casos_est_max casos     p_rt1  \\\nSE                                                                         \n202304  2023-01-22     311.0           311           311   311  0.999922   \n202303  2023-01-15     241.0           241           241   241  0.968399   \n202302  2023-01-08     212.0           212           212   212  0.985613   \n202301  2023-01-01     225.0           225           225   225  0.999998   \n\n       p_inc100k Localidade_id nivel                  id  ...    umidmed  \\\nSE                                                        ...              \n202304  4.608899             0     3  330455720230419684  ...  82.143793   \n202303  3.571527             0     3  330455720230319684  ...  77.157084   \n202302  3.141758             0     3  330455720230219684  ...  82.592395   \n202301  3.334413             0     3  330455720230119684  ...  78.188093   \n\n          umidmin    tempmed    tempmax casprov casprov_est casprov_est_min  \\\nSE                                                                            \n202304  82.143793  25.142857  25.142857     NaN         NaN             NaN   \n202303  77.157084  26.714286  26.714286     NaN         NaN             NaN   \n202302  69.331682  25.071429  28.285714     NaN         NaN             NaN   \n202301  63.034302  24.976191  28.428571     NaN         NaN             NaN   \n\n       casprov_est_max casconf notif_accum_year  \nSE                                               \n202304             NaN     NaN              989  \n202303             NaN     NaN              989  \n202302             NaN     NaN              989  \n202301             NaN     NaN              989  \n\n[4 rows x 29 columns]",
      "text/html": "<div>\n<style scoped>\n    .dataframe tbody tr th:only-of-type {\n        vertical-align: middle;\n    }\n\n    .dataframe tbody tr th {\n        vertical-align: top;\n    }\n\n    .dataframe thead th {\n        text-align: right;\n    }\n</style>\n<table border=\"1\" class=\"dataframe\">\n  <thead>\n    <tr style=\"text-align: right;\">\n      <th></th>\n      <th>data_iniSE</th>\n      <th>casos_est</th>\n      <th>casos_est_min</th>\n      <th>casos_est_max</th>\n      <th>casos</th>\n      <th>p_rt1</th>\n      <th>p_inc100k</th>\n      <th>Localidade_id</th>\n      <th>nivel</th>\n      <th>id</th>\n      <th>...</th>\n      <th>umidmed</th>\n      <th>umidmin</th>\n      <th>tempmed</th>\n      <th>tempmax</th>\n      <th>casprov</th>\n      <th>casprov_est</th>\n      <th>casprov_est_min</th>\n      <th>casprov_est_max</th>\n      <th>casconf</th>\n      <th>notif_accum_year</th>\n    </tr>\n    <tr>\n      <th>SE</th>\n      <th></th>\n      <th></th>\n      <th></th>\n      <th></th>\n      <th></th>\n      <th></th>\n      <th></th>\n      <th></th>\n      <th></th>\n      <th></th>\n      <th></th>\n      <th></th>\n      <th></th>\n      <th></th>\n      <th></th>\n      <th></th>\n      <th></th>\n      <th></th>\n      <th></th>\n      <th></th>\n      <th></th>\n    </tr>\n  </thead>\n  <tbody>\n    <tr>\n      <th>202304</th>\n      <td>2023-01-22</td>\n      <td>311.0</td>\n      <td>311</td>\n      <td>311</td>\n      <td>311</td>\n      <td>0.999922</td>\n      <td>4.608899</td>\n      <td>0</td>\n      <td>3</td>\n      <td>330455720230419684</td>\n      <td>...</td>\n      <td>82.143793</td>\n      <td>82.143793</td>\n      <td>25.142857</td>\n      <td>25.142857</td>\n      <td>NaN</td>\n      <td>NaN</td>\n      <td>NaN</td>\n      <td>NaN</td>\n      <td>NaN</td>\n      <td>989</td>\n    </tr>\n    <tr>\n      <th>202303</th>\n      <td>2023-01-15</td>\n      <td>241.0</td>\n      <td>241</td>\n      <td>241</td>\n      <td>241</td>\n      <td>0.968399</td>\n      <td>3.571527</td>\n      <td>0</td>\n      <td>3</td>\n      <td>330455720230319684</td>\n      <td>...</td>\n      <td>77.157084</td>\n      <td>77.157084</td>\n      <td>26.714286</td>\n      <td>26.714286</td>\n      <td>NaN</td>\n      <td>NaN</td>\n      <td>NaN</td>\n      <td>NaN</td>\n      <td>NaN</td>\n      <td>989</td>\n    </tr>\n    <tr>\n      <th>202302</th>\n      <td>2023-01-08</td>\n      <td>212.0</td>\n      <td>212</td>\n      <td>212</td>\n      <td>212</td>\n      <td>0.985613</td>\n      <td>3.141758</td>\n      <td>0</td>\n      <td>3</td>\n      <td>330455720230219684</td>\n      <td>...</td>\n      <td>82.592395</td>\n      <td>69.331682</td>\n      <td>25.071429</td>\n      <td>28.285714</td>\n      <td>NaN</td>\n      <td>NaN</td>\n      <td>NaN</td>\n      <td>NaN</td>\n      <td>NaN</td>\n      <td>989</td>\n    </tr>\n    <tr>\n      <th>202301</th>\n      <td>2023-01-01</td>\n      <td>225.0</td>\n      <td>225</td>\n      <td>225</td>\n      <td>225</td>\n      <td>0.999998</td>\n      <td>3.334413</td>\n      <td>0</td>\n      <td>3</td>\n      <td>330455720230119684</td>\n      <td>...</td>\n      <td>78.188093</td>\n      <td>63.034302</td>\n      <td>24.976191</td>\n      <td>28.428571</td>\n      <td>NaN</td>\n      <td>NaN</td>\n      <td>NaN</td>\n      <td>NaN</td>\n      <td>NaN</td>\n      <td>989</td>\n    </tr>\n  </tbody>\n</table>\n<p>4 rows × 29 columns</p>\n</div>"
     },
     "execution_count": 6,
     "metadata": {},
     "output_type": "execute_result"
    }
   ],
   "source": [
    "df = download('dengue', 202301, 202304, 'Rio de Janeiro')\n",
    "df.T.head()"
   ],
   "metadata": {
    "collapsed": false,
    "ExecuteTime": {
     "end_time": "2023-11-30T17:00:56.066434749Z",
     "start_time": "2023-11-30T17:00:54.940794184Z"
    }
   },
   "id": "a6abdd23fde77b67"
  },
  {
   "cell_type": "markdown",
   "source": [
    "## Baixando dados de várias doenças e cidades"
   ],
   "metadata": {
    "collapsed": false
   },
   "id": "9f097332771092aa"
  },
  {
   "cell_type": "code",
   "execution_count": 2,
   "outputs": [],
   "source": [
    "from itertools import product\n",
    "\n",
    "diseases = ['dengue', 'zika']\n",
    "cities = ['Rio de Janeiro', 'Rio do Antônio', 'Rio do Pires']\n",
    "\n",
    "for disease, city in product(diseases, cities):\n",
    "    df = download(disease, 202301, 202304, city)\n",
    "    df.to_csv(f'{disease}_{city.lower().replace(\" \", \"_\")}_se01_04.csv')"
   ],
   "metadata": {
    "collapsed": false,
    "ExecuteTime": {
     "end_time": "2023-12-05T17:23:16.962089045Z",
     "start_time": "2023-12-05T17:23:11.882983766Z"
    }
   },
   "id": "9fef3039dcb1016e"
  },
  {
   "cell_type": "code",
   "execution_count": 3,
   "outputs": [
    {
     "name": "stdout",
     "output_type": "stream",
     "text": [
      "dengue_rio_de_janeiro_se01_04.csv  zika_rio_de_janeiro_se01_04.csv\r\n",
      "dengue_rio_do_antônio_se01_04.csv  zika_rio_do_antônio_se01_04.csv\r\n",
      "dengue_rio_do_pires_se01_04.csv    zika_rio_do_pires_se01_04.csv\r\n"
     ]
    }
   ],
   "source": [
    "!ls *.csv"
   ],
   "metadata": {
    "collapsed": false,
    "ExecuteTime": {
     "end_time": "2023-12-05T19:36:43.321454194Z",
     "start_time": "2023-12-05T19:36:43.034146246Z"
    }
   },
   "id": "27a151600565dbc1"
  },
  {
   "cell_type": "code",
   "execution_count": null,
   "outputs": [],
   "source": [],
   "metadata": {
    "collapsed": false
   },
   "id": "80eb45fffdea75fc"
  }
 ],
 "metadata": {
  "kernelspec": {
   "display_name": "Python 3",
   "language": "python",
   "name": "python3"
  },
  "language_info": {
   "codemirror_mode": {
    "name": "ipython",
    "version": 2
   },
   "file_extension": ".py",
   "mimetype": "text/x-python",
   "name": "python",
   "nbconvert_exporter": "python",
   "pygments_lexer": "ipython2",
   "version": "2.7.6"
  }
 },
 "nbformat": 4,
 "nbformat_minor": 5
}
