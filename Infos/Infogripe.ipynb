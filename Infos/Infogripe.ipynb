{
 "cells": [
  {
   "cell_type": "markdown",
   "source": [
    "<a href=\"https://colab.research.google.com/github/AlertaDengue/curso-pysus/blob/main/Infos/Infogripe.ipynb\" target=\"_parent\"><img src=\"https://colab.research.google.com/assets/colab-badge.svg\" alt=\"Open In Colab\"/></a>\n",
    "# Acessando os dados do Infogripe\n",
    "O PySUS facilita também o acesso aos dados do [Infogripe](https://info.gripe.fiocruz.br).\n"
   ],
   "metadata": {
    "collapsed": false
   },
   "id": "e7e5d0fcf4fe8103"
  },
  {
   "cell_type": "code",
   "execution_count": 1,
   "id": "initial_id",
   "metadata": {
    "collapsed": true,
    "ExecuteTime": {
     "end_time": "2023-11-30T16:47:58.764170410Z",
     "start_time": "2023-11-30T16:47:58.078183703Z"
    }
   },
   "outputs": [],
   "source": [
    "from pysus.online_data.Infogripe import list_datasets, download"
   ]
  },
  {
   "cell_type": "code",
   "execution_count": 2,
   "outputs": [
    {
     "data": {
      "text/plain": "['Alerta de situação',\n 'Casos por idade, sexo e virus',\n 'Casos Totais e estimativas',\n 'Valores esperados por localidades']"
     },
     "execution_count": 2,
     "metadata": {},
     "output_type": "execute_result"
    }
   ],
   "source": [
    "list_datasets()"
   ],
   "metadata": {
    "collapsed": false,
    "ExecuteTime": {
     "end_time": "2023-11-30T16:48:12.403188329Z",
     "start_time": "2023-11-30T16:48:12.400832580Z"
    }
   },
   "id": "b2d42ed4f2305a43"
  },
  {
   "cell_type": "code",
   "execution_count": 4,
   "outputs": [
    {
     "name": "stdout",
     "output_type": "stream",
     "text": [
      "CPU times: user 13.1 ms, sys: 0 ns, total: 13.1 ms\n",
      "Wall time: 294 ms\n"
     ]
    },
    {
     "data": {
      "text/plain": "   UF Unidade da Federação  dado      escala  Ano epidemiológico  \\\n0   0               Brasil  srag  incidência                2023   \n1   0               Brasil  srag  incidência                2023   \n2   1         Região Norte  srag  incidência                2023   \n3   1         Região Norte  srag  incidência                2023   \n4   2      Região Nordeste  srag  incidência                2023   \n5   2      Região Nordeste  srag  incidência                2023   \n6   3       Região Sudeste  srag  incidência                2023   \n7   3       Região Sudeste  srag  incidência                2023   \n8   4           Região Sul  srag  incidência                2023   \n9   4           Região Sul  srag  incidência                2023   \n\n   Semana epidemiológica  casos estimados  média móvel     nível semanal  \\\n0                     45         0.735190     0.709726   valor epidêmico   \n1                     46         0.687041          NaN   valor epidêmico   \n2                     45         0.750970     0.719680   valor epidêmico   \n3                     46         0.855271          NaN        valor alto   \n4                     45         0.549452     0.520058  valor muito alto   \n5                     46         0.474835          NaN        valor alto   \n6                     45         0.739606     0.728500   valor epidêmico   \n7                     46         0.730721          NaN   valor epidêmico   \n8                     45         0.995791     0.942638   valor epidêmico   \n9                     46         0.852605          NaN   valor epidêmico   \n\n  nível por média móvel  \n0               Amarelo  \n1                   NaN  \n2               Amarelo  \n3                   NaN  \n4              Vermelho  \n5                   NaN  \n6               Amarelo  \n7                   NaN  \n8               Amarelo  \n9                   NaN  ",
      "text/html": "<div>\n<style scoped>\n    .dataframe tbody tr th:only-of-type {\n        vertical-align: middle;\n    }\n\n    .dataframe tbody tr th {\n        vertical-align: top;\n    }\n\n    .dataframe thead th {\n        text-align: right;\n    }\n</style>\n<table border=\"1\" class=\"dataframe\">\n  <thead>\n    <tr style=\"text-align: right;\">\n      <th></th>\n      <th>UF</th>\n      <th>Unidade da Federação</th>\n      <th>dado</th>\n      <th>escala</th>\n      <th>Ano epidemiológico</th>\n      <th>Semana epidemiológica</th>\n      <th>casos estimados</th>\n      <th>média móvel</th>\n      <th>nível semanal</th>\n      <th>nível por média móvel</th>\n    </tr>\n  </thead>\n  <tbody>\n    <tr>\n      <th>0</th>\n      <td>0</td>\n      <td>Brasil</td>\n      <td>srag</td>\n      <td>incidência</td>\n      <td>2023</td>\n      <td>45</td>\n      <td>0.735190</td>\n      <td>0.709726</td>\n      <td>valor epidêmico</td>\n      <td>Amarelo</td>\n    </tr>\n    <tr>\n      <th>1</th>\n      <td>0</td>\n      <td>Brasil</td>\n      <td>srag</td>\n      <td>incidência</td>\n      <td>2023</td>\n      <td>46</td>\n      <td>0.687041</td>\n      <td>NaN</td>\n      <td>valor epidêmico</td>\n      <td>NaN</td>\n    </tr>\n    <tr>\n      <th>2</th>\n      <td>1</td>\n      <td>Região Norte</td>\n      <td>srag</td>\n      <td>incidência</td>\n      <td>2023</td>\n      <td>45</td>\n      <td>0.750970</td>\n      <td>0.719680</td>\n      <td>valor epidêmico</td>\n      <td>Amarelo</td>\n    </tr>\n    <tr>\n      <th>3</th>\n      <td>1</td>\n      <td>Região Norte</td>\n      <td>srag</td>\n      <td>incidência</td>\n      <td>2023</td>\n      <td>46</td>\n      <td>0.855271</td>\n      <td>NaN</td>\n      <td>valor alto</td>\n      <td>NaN</td>\n    </tr>\n    <tr>\n      <th>4</th>\n      <td>2</td>\n      <td>Região Nordeste</td>\n      <td>srag</td>\n      <td>incidência</td>\n      <td>2023</td>\n      <td>45</td>\n      <td>0.549452</td>\n      <td>0.520058</td>\n      <td>valor muito alto</td>\n      <td>Vermelho</td>\n    </tr>\n    <tr>\n      <th>5</th>\n      <td>2</td>\n      <td>Região Nordeste</td>\n      <td>srag</td>\n      <td>incidência</td>\n      <td>2023</td>\n      <td>46</td>\n      <td>0.474835</td>\n      <td>NaN</td>\n      <td>valor alto</td>\n      <td>NaN</td>\n    </tr>\n    <tr>\n      <th>6</th>\n      <td>3</td>\n      <td>Região Sudeste</td>\n      <td>srag</td>\n      <td>incidência</td>\n      <td>2023</td>\n      <td>45</td>\n      <td>0.739606</td>\n      <td>0.728500</td>\n      <td>valor epidêmico</td>\n      <td>Amarelo</td>\n    </tr>\n    <tr>\n      <th>7</th>\n      <td>3</td>\n      <td>Região Sudeste</td>\n      <td>srag</td>\n      <td>incidência</td>\n      <td>2023</td>\n      <td>46</td>\n      <td>0.730721</td>\n      <td>NaN</td>\n      <td>valor epidêmico</td>\n      <td>NaN</td>\n    </tr>\n    <tr>\n      <th>8</th>\n      <td>4</td>\n      <td>Região Sul</td>\n      <td>srag</td>\n      <td>incidência</td>\n      <td>2023</td>\n      <td>45</td>\n      <td>0.995791</td>\n      <td>0.942638</td>\n      <td>valor epidêmico</td>\n      <td>Amarelo</td>\n    </tr>\n    <tr>\n      <th>9</th>\n      <td>4</td>\n      <td>Região Sul</td>\n      <td>srag</td>\n      <td>incidência</td>\n      <td>2023</td>\n      <td>46</td>\n      <td>0.852605</td>\n      <td>NaN</td>\n      <td>valor epidêmico</td>\n      <td>NaN</td>\n    </tr>\n  </tbody>\n</table>\n</div>"
     },
     "execution_count": 4,
     "metadata": {},
     "output_type": "execute_result"
    }
   ],
   "source": [
    "%%time \n",
    "df_alert = download(\"Alerta de situação\")\n",
    "df_alert.head(10)\n"
   ],
   "metadata": {
    "collapsed": false,
    "ExecuteTime": {
     "end_time": "2023-11-30T16:48:57.971652772Z",
     "start_time": "2023-11-30T16:48:57.673862408Z"
    }
   },
   "id": "b6e13a0252c6dbdd"
  },
  {
   "cell_type": "code",
   "execution_count": 6,
   "outputs": [
    {
     "data": {
      "text/plain": "  data de publicação  UF Unidade da Federação    Tipo  dado      escala  \\\n0         2023-11-20  11             Rondônia  Estado  srag  incidência   \n1         2023-11-20  11             Rondônia  Estado  srag  incidência   \n2         2023-11-20  11             Rondônia  Estado  srag  incidência   \n3         2023-11-20  11             Rondônia  Estado  srag  incidência   \n4         2023-11-20  11             Rondônia  Estado  srag  incidência   \n5         2023-11-20  11             Rondônia  Estado  srag  incidência   \n6         2023-11-20  11             Rondônia  Estado  srag  incidência   \n7         2023-11-20  11             Rondônia  Estado  srag  incidência   \n8         2023-11-20  11             Rondônia  Estado  srag  incidência   \n9         2023-11-20  11             Rondônia  Estado  srag  incidência   \n\n    sexo  Ano epidemiológico  Semana epidemiológica  \\\n0      F                2009                      1   \n1      M                2009                      1   \n2  Total                2009                      1   \n3      F                2009                      2   \n4      M                2009                      2   \n5  Total                2009                      2   \n6      F                2009                      3   \n7      M                2009                      3   \n8  Total                2009                      3   \n9      F                2009                      4   \n\n  Ano e semana epidemiológica  ... Vírus sincicial respiratório (VSR)  \\\n0                     2009W01  ...                                0.0   \n1                     2009W01  ...                                0.0   \n2                     2009W01  ...                                0.0   \n3                     2009W02  ...                                0.0   \n4                     2009W02  ...                                0.0   \n5                     2009W02  ...                                0.0   \n6                     2009W03  ...                                0.0   \n7                     2009W03  ...                                0.0   \n8                     2009W03  ...                                0.0   \n9                     2009W04  ...                                0.0   \n\n   Parainfluenza 1  Parainfluenza 2  Parainfluenza 3  Parainfluenza 4  \\\n0              0.0              0.0              0.0              0.0   \n1              0.0              0.0              0.0              0.0   \n2              0.0              0.0              0.0              0.0   \n3              0.0              0.0              0.0              0.0   \n4              0.0              0.0              0.0              0.0   \n5              0.0              0.0              0.0              0.0   \n6              0.0              0.0              0.0              0.0   \n7              0.0              0.0              0.0              0.0   \n8              0.0              0.0              0.0              0.0   \n9              0.0              0.0              0.0              0.0   \n\n   Adenovirus  Rinovirus  Bocavirus  Metapneumovirus  Outros virus  \n0         0.0        0.0        0.0              0.0           0.0  \n1         0.0        0.0        0.0              0.0           0.0  \n2         0.0        0.0        0.0              0.0           0.0  \n3         0.0        0.0        0.0              0.0           0.0  \n4         0.0        0.0        0.0              0.0           0.0  \n5         0.0        0.0        0.0              0.0           0.0  \n6         0.0        0.0        0.0              0.0           0.0  \n7         0.0        0.0        0.0              0.0           0.0  \n8         0.0        0.0        0.0              0.0           0.0  \n9         0.0        0.0        0.0              0.0           0.0  \n\n[10 rows x 42 columns]",
      "text/html": "<div>\n<style scoped>\n    .dataframe tbody tr th:only-of-type {\n        vertical-align: middle;\n    }\n\n    .dataframe tbody tr th {\n        vertical-align: top;\n    }\n\n    .dataframe thead th {\n        text-align: right;\n    }\n</style>\n<table border=\"1\" class=\"dataframe\">\n  <thead>\n    <tr style=\"text-align: right;\">\n      <th></th>\n      <th>data de publicação</th>\n      <th>UF</th>\n      <th>Unidade da Federação</th>\n      <th>Tipo</th>\n      <th>dado</th>\n      <th>escala</th>\n      <th>sexo</th>\n      <th>Ano epidemiológico</th>\n      <th>Semana epidemiológica</th>\n      <th>Ano e semana epidemiológica</th>\n      <th>...</th>\n      <th>Vírus sincicial respiratório (VSR)</th>\n      <th>Parainfluenza 1</th>\n      <th>Parainfluenza 2</th>\n      <th>Parainfluenza 3</th>\n      <th>Parainfluenza 4</th>\n      <th>Adenovirus</th>\n      <th>Rinovirus</th>\n      <th>Bocavirus</th>\n      <th>Metapneumovirus</th>\n      <th>Outros virus</th>\n    </tr>\n  </thead>\n  <tbody>\n    <tr>\n      <th>0</th>\n      <td>2023-11-20</td>\n      <td>11</td>\n      <td>Rondônia</td>\n      <td>Estado</td>\n      <td>srag</td>\n      <td>incidência</td>\n      <td>F</td>\n      <td>2009</td>\n      <td>1</td>\n      <td>2009W01</td>\n      <td>...</td>\n      <td>0.0</td>\n      <td>0.0</td>\n      <td>0.0</td>\n      <td>0.0</td>\n      <td>0.0</td>\n      <td>0.0</td>\n      <td>0.0</td>\n      <td>0.0</td>\n      <td>0.0</td>\n      <td>0.0</td>\n    </tr>\n    <tr>\n      <th>1</th>\n      <td>2023-11-20</td>\n      <td>11</td>\n      <td>Rondônia</td>\n      <td>Estado</td>\n      <td>srag</td>\n      <td>incidência</td>\n      <td>M</td>\n      <td>2009</td>\n      <td>1</td>\n      <td>2009W01</td>\n      <td>...</td>\n      <td>0.0</td>\n      <td>0.0</td>\n      <td>0.0</td>\n      <td>0.0</td>\n      <td>0.0</td>\n      <td>0.0</td>\n      <td>0.0</td>\n      <td>0.0</td>\n      <td>0.0</td>\n      <td>0.0</td>\n    </tr>\n    <tr>\n      <th>2</th>\n      <td>2023-11-20</td>\n      <td>11</td>\n      <td>Rondônia</td>\n      <td>Estado</td>\n      <td>srag</td>\n      <td>incidência</td>\n      <td>Total</td>\n      <td>2009</td>\n      <td>1</td>\n      <td>2009W01</td>\n      <td>...</td>\n      <td>0.0</td>\n      <td>0.0</td>\n      <td>0.0</td>\n      <td>0.0</td>\n      <td>0.0</td>\n      <td>0.0</td>\n      <td>0.0</td>\n      <td>0.0</td>\n      <td>0.0</td>\n      <td>0.0</td>\n    </tr>\n    <tr>\n      <th>3</th>\n      <td>2023-11-20</td>\n      <td>11</td>\n      <td>Rondônia</td>\n      <td>Estado</td>\n      <td>srag</td>\n      <td>incidência</td>\n      <td>F</td>\n      <td>2009</td>\n      <td>2</td>\n      <td>2009W02</td>\n      <td>...</td>\n      <td>0.0</td>\n      <td>0.0</td>\n      <td>0.0</td>\n      <td>0.0</td>\n      <td>0.0</td>\n      <td>0.0</td>\n      <td>0.0</td>\n      <td>0.0</td>\n      <td>0.0</td>\n      <td>0.0</td>\n    </tr>\n    <tr>\n      <th>4</th>\n      <td>2023-11-20</td>\n      <td>11</td>\n      <td>Rondônia</td>\n      <td>Estado</td>\n      <td>srag</td>\n      <td>incidência</td>\n      <td>M</td>\n      <td>2009</td>\n      <td>2</td>\n      <td>2009W02</td>\n      <td>...</td>\n      <td>0.0</td>\n      <td>0.0</td>\n      <td>0.0</td>\n      <td>0.0</td>\n      <td>0.0</td>\n      <td>0.0</td>\n      <td>0.0</td>\n      <td>0.0</td>\n      <td>0.0</td>\n      <td>0.0</td>\n    </tr>\n    <tr>\n      <th>5</th>\n      <td>2023-11-20</td>\n      <td>11</td>\n      <td>Rondônia</td>\n      <td>Estado</td>\n      <td>srag</td>\n      <td>incidência</td>\n      <td>Total</td>\n      <td>2009</td>\n      <td>2</td>\n      <td>2009W02</td>\n      <td>...</td>\n      <td>0.0</td>\n      <td>0.0</td>\n      <td>0.0</td>\n      <td>0.0</td>\n      <td>0.0</td>\n      <td>0.0</td>\n      <td>0.0</td>\n      <td>0.0</td>\n      <td>0.0</td>\n      <td>0.0</td>\n    </tr>\n    <tr>\n      <th>6</th>\n      <td>2023-11-20</td>\n      <td>11</td>\n      <td>Rondônia</td>\n      <td>Estado</td>\n      <td>srag</td>\n      <td>incidência</td>\n      <td>F</td>\n      <td>2009</td>\n      <td>3</td>\n      <td>2009W03</td>\n      <td>...</td>\n      <td>0.0</td>\n      <td>0.0</td>\n      <td>0.0</td>\n      <td>0.0</td>\n      <td>0.0</td>\n      <td>0.0</td>\n      <td>0.0</td>\n      <td>0.0</td>\n      <td>0.0</td>\n      <td>0.0</td>\n    </tr>\n    <tr>\n      <th>7</th>\n      <td>2023-11-20</td>\n      <td>11</td>\n      <td>Rondônia</td>\n      <td>Estado</td>\n      <td>srag</td>\n      <td>incidência</td>\n      <td>M</td>\n      <td>2009</td>\n      <td>3</td>\n      <td>2009W03</td>\n      <td>...</td>\n      <td>0.0</td>\n      <td>0.0</td>\n      <td>0.0</td>\n      <td>0.0</td>\n      <td>0.0</td>\n      <td>0.0</td>\n      <td>0.0</td>\n      <td>0.0</td>\n      <td>0.0</td>\n      <td>0.0</td>\n    </tr>\n    <tr>\n      <th>8</th>\n      <td>2023-11-20</td>\n      <td>11</td>\n      <td>Rondônia</td>\n      <td>Estado</td>\n      <td>srag</td>\n      <td>incidência</td>\n      <td>Total</td>\n      <td>2009</td>\n      <td>3</td>\n      <td>2009W03</td>\n      <td>...</td>\n      <td>0.0</td>\n      <td>0.0</td>\n      <td>0.0</td>\n      <td>0.0</td>\n      <td>0.0</td>\n      <td>0.0</td>\n      <td>0.0</td>\n      <td>0.0</td>\n      <td>0.0</td>\n      <td>0.0</td>\n    </tr>\n    <tr>\n      <th>9</th>\n      <td>2023-11-20</td>\n      <td>11</td>\n      <td>Rondônia</td>\n      <td>Estado</td>\n      <td>srag</td>\n      <td>incidência</td>\n      <td>F</td>\n      <td>2009</td>\n      <td>4</td>\n      <td>2009W04</td>\n      <td>...</td>\n      <td>0.0</td>\n      <td>0.0</td>\n      <td>0.0</td>\n      <td>0.0</td>\n      <td>0.0</td>\n      <td>0.0</td>\n      <td>0.0</td>\n      <td>0.0</td>\n      <td>0.0</td>\n      <td>0.0</td>\n    </tr>\n  </tbody>\n</table>\n<p>10 rows × 42 columns</p>\n</div>"
     },
     "execution_count": 6,
     "metadata": {},
     "output_type": "execute_result"
    }
   ],
   "source": [
    "df_age_sex_virus = download(\"Casos por idade, sexo e virus\")\n",
    "df_age_sex_virus.head(10)\n"
   ],
   "metadata": {
    "collapsed": false,
    "ExecuteTime": {
     "end_time": "2023-11-30T16:50:10.471955858Z",
     "start_time": "2023-11-30T16:50:06.049636736Z"
    }
   },
   "id": "f0d255bc1fa64e33"
  },
  {
   "cell_type": "code",
   "execution_count": 7,
   "outputs": [
    {
     "data": {
      "text/plain": "  data de publicação  UF Unidade da Federação  Tipo  dado escala  \\\n0         2023-11-20   0               Brasil  País  srag  casos   \n1         2023-11-20   0               Brasil  País  srag  casos   \n2         2023-11-20   0               Brasil  País  srag  casos   \n3         2023-11-20   0               Brasil  País  srag  casos   \n4         2023-11-20   0               Brasil  País  srag  casos   \n5         2023-11-20   0               Brasil  País  srag  casos   \n6         2023-11-20   0               Brasil  País  srag  casos   \n7         2023-11-20   0               Brasil  País  srag  casos   \n8         2023-11-20   0               Brasil  País  srag  casos   \n9         2023-11-20   0               Brasil  País  srag  casos   \n\n   Ano epidemiológico  Semana epidemiológica  \\\n0                2009                      1   \n1                2009                      2   \n2                2009                      3   \n3                2009                      4   \n4                2009                      5   \n5                2009                      6   \n6                2009                      7   \n7                2009                      8   \n8                2009                      9   \n9                2009                     10   \n\n                               Situação do dado  \\\n0  Dado estável. Sujeito a pequenas alterações.   \n1  Dado estável. Sujeito a pequenas alterações.   \n2  Dado estável. Sujeito a pequenas alterações.   \n3  Dado estável. Sujeito a pequenas alterações.   \n4  Dado estável. Sujeito a pequenas alterações.   \n5  Dado estável. Sujeito a pequenas alterações.   \n6  Dado estável. Sujeito a pequenas alterações.   \n7  Dado estável. Sujeito a pequenas alterações.   \n8  Dado estável. Sujeito a pequenas alterações.   \n9  Dado estável. Sujeito a pequenas alterações.   \n\n   Casos semanais reportados até a última atualização  ...  casos estimados  \\\n0                                                0.0   ...              NaN   \n1                                                0.0   ...              NaN   \n2                                                0.0   ...              NaN   \n3                                                0.0   ...              NaN   \n4                                                0.0   ...              NaN   \n5                                                0.0   ...              NaN   \n6                                                0.0   ...              NaN   \n7                                                0.0   ...              NaN   \n8                                                0.0   ...              NaN   \n9                                                0.0   ...              NaN   \n\n   média móvel  limite superior da estimativa  Percentual em relação ao país  \\\n0          NaN                            NaN                            NaN   \n1          0.0                            NaN                            NaN   \n2          0.0                            NaN                            NaN   \n3          0.0                            NaN                            NaN   \n4          0.0                            NaN                            NaN   \n5          0.0                            NaN                            NaN   \n6          0.0                            NaN                            NaN   \n7          0.0                            NaN                            NaN   \n8          0.0                            NaN                            NaN   \n9          0.0                            NaN                            NaN   \n\n   População  limiar pré-epidêmico  intensidade alta  intensidade muito alta  \\\n0  193543969                 614.0            1588.0                  2056.0   \n1  193543969                 614.0            1588.0                  2056.0   \n2  193543969                 614.0            1588.0                  2056.0   \n3  193543969                 614.0            1588.0                  2056.0   \n4  193543969                 614.0            1588.0                  2056.0   \n5  193543969                 614.0            1588.0                  2056.0   \n6  193543969                 614.0            1588.0                  2056.0   \n7  193543969                 614.0            1588.0                  2056.0   \n8  193543969                 614.0            1588.0                  2056.0   \n9  193543969                 614.0            1588.0                  2056.0   \n\n   nível semanal nível por média móvel  \n0    valor baixo                   NaN  \n1    valor baixo                 Verde  \n2    valor baixo                 Verde  \n3    valor baixo                 Verde  \n4    valor baixo                 Verde  \n5    valor baixo                 Verde  \n6    valor baixo                 Verde  \n7    valor baixo                 Verde  \n8    valor baixo                 Verde  \n9    valor baixo                 Verde  \n\n[10 rows x 21 columns]",
      "text/html": "<div>\n<style scoped>\n    .dataframe tbody tr th:only-of-type {\n        vertical-align: middle;\n    }\n\n    .dataframe tbody tr th {\n        vertical-align: top;\n    }\n\n    .dataframe thead th {\n        text-align: right;\n    }\n</style>\n<table border=\"1\" class=\"dataframe\">\n  <thead>\n    <tr style=\"text-align: right;\">\n      <th></th>\n      <th>data de publicação</th>\n      <th>UF</th>\n      <th>Unidade da Federação</th>\n      <th>Tipo</th>\n      <th>dado</th>\n      <th>escala</th>\n      <th>Ano epidemiológico</th>\n      <th>Semana epidemiológica</th>\n      <th>Situação do dado</th>\n      <th>Casos semanais reportados até a última atualização</th>\n      <th>...</th>\n      <th>casos estimados</th>\n      <th>média móvel</th>\n      <th>limite superior da estimativa</th>\n      <th>Percentual em relação ao país</th>\n      <th>População</th>\n      <th>limiar pré-epidêmico</th>\n      <th>intensidade alta</th>\n      <th>intensidade muito alta</th>\n      <th>nível semanal</th>\n      <th>nível por média móvel</th>\n    </tr>\n  </thead>\n  <tbody>\n    <tr>\n      <th>0</th>\n      <td>2023-11-20</td>\n      <td>0</td>\n      <td>Brasil</td>\n      <td>País</td>\n      <td>srag</td>\n      <td>casos</td>\n      <td>2009</td>\n      <td>1</td>\n      <td>Dado estável. Sujeito a pequenas alterações.</td>\n      <td>0.0</td>\n      <td>...</td>\n      <td>NaN</td>\n      <td>NaN</td>\n      <td>NaN</td>\n      <td>NaN</td>\n      <td>193543969</td>\n      <td>614.0</td>\n      <td>1588.0</td>\n      <td>2056.0</td>\n      <td>valor baixo</td>\n      <td>NaN</td>\n    </tr>\n    <tr>\n      <th>1</th>\n      <td>2023-11-20</td>\n      <td>0</td>\n      <td>Brasil</td>\n      <td>País</td>\n      <td>srag</td>\n      <td>casos</td>\n      <td>2009</td>\n      <td>2</td>\n      <td>Dado estável. Sujeito a pequenas alterações.</td>\n      <td>0.0</td>\n      <td>...</td>\n      <td>NaN</td>\n      <td>0.0</td>\n      <td>NaN</td>\n      <td>NaN</td>\n      <td>193543969</td>\n      <td>614.0</td>\n      <td>1588.0</td>\n      <td>2056.0</td>\n      <td>valor baixo</td>\n      <td>Verde</td>\n    </tr>\n    <tr>\n      <th>2</th>\n      <td>2023-11-20</td>\n      <td>0</td>\n      <td>Brasil</td>\n      <td>País</td>\n      <td>srag</td>\n      <td>casos</td>\n      <td>2009</td>\n      <td>3</td>\n      <td>Dado estável. Sujeito a pequenas alterações.</td>\n      <td>0.0</td>\n      <td>...</td>\n      <td>NaN</td>\n      <td>0.0</td>\n      <td>NaN</td>\n      <td>NaN</td>\n      <td>193543969</td>\n      <td>614.0</td>\n      <td>1588.0</td>\n      <td>2056.0</td>\n      <td>valor baixo</td>\n      <td>Verde</td>\n    </tr>\n    <tr>\n      <th>3</th>\n      <td>2023-11-20</td>\n      <td>0</td>\n      <td>Brasil</td>\n      <td>País</td>\n      <td>srag</td>\n      <td>casos</td>\n      <td>2009</td>\n      <td>4</td>\n      <td>Dado estável. Sujeito a pequenas alterações.</td>\n      <td>0.0</td>\n      <td>...</td>\n      <td>NaN</td>\n      <td>0.0</td>\n      <td>NaN</td>\n      <td>NaN</td>\n      <td>193543969</td>\n      <td>614.0</td>\n      <td>1588.0</td>\n      <td>2056.0</td>\n      <td>valor baixo</td>\n      <td>Verde</td>\n    </tr>\n    <tr>\n      <th>4</th>\n      <td>2023-11-20</td>\n      <td>0</td>\n      <td>Brasil</td>\n      <td>País</td>\n      <td>srag</td>\n      <td>casos</td>\n      <td>2009</td>\n      <td>5</td>\n      <td>Dado estável. Sujeito a pequenas alterações.</td>\n      <td>0.0</td>\n      <td>...</td>\n      <td>NaN</td>\n      <td>0.0</td>\n      <td>NaN</td>\n      <td>NaN</td>\n      <td>193543969</td>\n      <td>614.0</td>\n      <td>1588.0</td>\n      <td>2056.0</td>\n      <td>valor baixo</td>\n      <td>Verde</td>\n    </tr>\n    <tr>\n      <th>5</th>\n      <td>2023-11-20</td>\n      <td>0</td>\n      <td>Brasil</td>\n      <td>País</td>\n      <td>srag</td>\n      <td>casos</td>\n      <td>2009</td>\n      <td>6</td>\n      <td>Dado estável. Sujeito a pequenas alterações.</td>\n      <td>0.0</td>\n      <td>...</td>\n      <td>NaN</td>\n      <td>0.0</td>\n      <td>NaN</td>\n      <td>NaN</td>\n      <td>193543969</td>\n      <td>614.0</td>\n      <td>1588.0</td>\n      <td>2056.0</td>\n      <td>valor baixo</td>\n      <td>Verde</td>\n    </tr>\n    <tr>\n      <th>6</th>\n      <td>2023-11-20</td>\n      <td>0</td>\n      <td>Brasil</td>\n      <td>País</td>\n      <td>srag</td>\n      <td>casos</td>\n      <td>2009</td>\n      <td>7</td>\n      <td>Dado estável. Sujeito a pequenas alterações.</td>\n      <td>0.0</td>\n      <td>...</td>\n      <td>NaN</td>\n      <td>0.0</td>\n      <td>NaN</td>\n      <td>NaN</td>\n      <td>193543969</td>\n      <td>614.0</td>\n      <td>1588.0</td>\n      <td>2056.0</td>\n      <td>valor baixo</td>\n      <td>Verde</td>\n    </tr>\n    <tr>\n      <th>7</th>\n      <td>2023-11-20</td>\n      <td>0</td>\n      <td>Brasil</td>\n      <td>País</td>\n      <td>srag</td>\n      <td>casos</td>\n      <td>2009</td>\n      <td>8</td>\n      <td>Dado estável. Sujeito a pequenas alterações.</td>\n      <td>0.0</td>\n      <td>...</td>\n      <td>NaN</td>\n      <td>0.0</td>\n      <td>NaN</td>\n      <td>NaN</td>\n      <td>193543969</td>\n      <td>614.0</td>\n      <td>1588.0</td>\n      <td>2056.0</td>\n      <td>valor baixo</td>\n      <td>Verde</td>\n    </tr>\n    <tr>\n      <th>8</th>\n      <td>2023-11-20</td>\n      <td>0</td>\n      <td>Brasil</td>\n      <td>País</td>\n      <td>srag</td>\n      <td>casos</td>\n      <td>2009</td>\n      <td>9</td>\n      <td>Dado estável. Sujeito a pequenas alterações.</td>\n      <td>0.0</td>\n      <td>...</td>\n      <td>NaN</td>\n      <td>0.0</td>\n      <td>NaN</td>\n      <td>NaN</td>\n      <td>193543969</td>\n      <td>614.0</td>\n      <td>1588.0</td>\n      <td>2056.0</td>\n      <td>valor baixo</td>\n      <td>Verde</td>\n    </tr>\n    <tr>\n      <th>9</th>\n      <td>2023-11-20</td>\n      <td>0</td>\n      <td>Brasil</td>\n      <td>País</td>\n      <td>srag</td>\n      <td>casos</td>\n      <td>2009</td>\n      <td>10</td>\n      <td>Dado estável. Sujeito a pequenas alterações.</td>\n      <td>0.0</td>\n      <td>...</td>\n      <td>NaN</td>\n      <td>0.0</td>\n      <td>NaN</td>\n      <td>NaN</td>\n      <td>193543969</td>\n      <td>614.0</td>\n      <td>1588.0</td>\n      <td>2056.0</td>\n      <td>valor baixo</td>\n      <td>Verde</td>\n    </tr>\n  </tbody>\n</table>\n<p>10 rows × 21 columns</p>\n</div>"
     },
     "execution_count": 7,
     "metadata": {},
     "output_type": "execute_result"
    }
   ],
   "source": [
    "df_totals = download(\"Casos Totais e estimativas\")\n",
    "df_totals.head(10)\n"
   ],
   "metadata": {
    "collapsed": false,
    "ExecuteTime": {
     "end_time": "2023-11-30T16:55:09.074920007Z",
     "start_time": "2023-11-30T16:55:06.960988400Z"
    }
   },
   "id": "ab115943502f4720"
  },
  {
   "cell_type": "code",
   "execution_count": 8,
   "outputs": [
    {
     "data": {
      "text/plain": "   UF Unidade da Federação    Tipo  dado      escala  Semana epidemiológica  \\\n0  11             Rondônia  Estado  srag  incidência                      1   \n1  11             Rondônia  Estado  srag  incidência                      2   \n2  11             Rondônia  Estado  srag  incidência                      3   \n3  11             Rondônia  Estado  srag  incidência                      4   \n4  11             Rondônia  Estado  srag  incidência                      5   \n5  11             Rondônia  Estado  srag  incidência                      6   \n6  11             Rondônia  Estado  srag  incidência                      7   \n7  11             Rondônia  Estado  srag  incidência                      8   \n8  11             Rondônia  Estado  srag  incidência                      9   \n9  11             Rondônia  Estado  srag  incidência                     10   \n\n   corredor baixo  corredor mediano  corredor alto  limiar pré-epidêmico  \\\n0        0.000000          0.000000       0.053353              0.160058   \n1        0.000000          0.000000       0.000000              0.160058   \n2        0.000000          0.000000       0.053353              0.160058   \n3        0.000000          0.053353       0.053353              0.160058   \n4        0.000000          0.000000       0.053353              0.160058   \n5        0.000000          0.053353       0.053353              0.160058   \n6        0.000000          0.000000       0.053353              0.160058   \n7        0.000000          0.000000       0.053353              0.160058   \n8        0.106705          0.106705       0.213411              0.160058   \n9        0.000000          0.106705       0.266764              0.160058   \n\n   intensidade alta  intensidade muito alta  \\\n0          0.693586                0.906997   \n1          0.693586                0.906997   \n2          0.693586                0.906997   \n3          0.693586                0.906997   \n4          0.693586                0.906997   \n5          0.693586                0.906997   \n6          0.693586                0.906997   \n7          0.693586                0.906997   \n8          0.693586                0.906997   \n9          0.693586                0.906997   \n\n    temporadas consideradas regulares  \\\n0  2010, 2013, 2014, 2016, 2018, 2019   \n1  2010, 2013, 2014, 2016, 2018, 2019   \n2  2010, 2013, 2014, 2016, 2018, 2019   \n3  2010, 2013, 2014, 2016, 2018, 2019   \n4  2010, 2013, 2014, 2016, 2018, 2019   \n5  2010, 2013, 2014, 2016, 2018, 2019   \n6  2010, 2013, 2014, 2016, 2018, 2019   \n7  2010, 2013, 2014, 2016, 2018, 2019   \n8  2010, 2013, 2014, 2016, 2018, 2019   \n9  2010, 2013, 2014, 2016, 2018, 2019   \n\n   População de referência para cálculo de incidência  \n0                                            1874318   \n1                                            1874318   \n2                                            1874318   \n3                                            1874318   \n4                                            1874318   \n5                                            1874318   \n6                                            1874318   \n7                                            1874318   \n8                                            1874318   \n9                                            1874318   ",
      "text/html": "<div>\n<style scoped>\n    .dataframe tbody tr th:only-of-type {\n        vertical-align: middle;\n    }\n\n    .dataframe tbody tr th {\n        vertical-align: top;\n    }\n\n    .dataframe thead th {\n        text-align: right;\n    }\n</style>\n<table border=\"1\" class=\"dataframe\">\n  <thead>\n    <tr style=\"text-align: right;\">\n      <th></th>\n      <th>UF</th>\n      <th>Unidade da Federação</th>\n      <th>Tipo</th>\n      <th>dado</th>\n      <th>escala</th>\n      <th>Semana epidemiológica</th>\n      <th>corredor baixo</th>\n      <th>corredor mediano</th>\n      <th>corredor alto</th>\n      <th>limiar pré-epidêmico</th>\n      <th>intensidade alta</th>\n      <th>intensidade muito alta</th>\n      <th>temporadas consideradas regulares</th>\n      <th>População de referência para cálculo de incidência</th>\n    </tr>\n  </thead>\n  <tbody>\n    <tr>\n      <th>0</th>\n      <td>11</td>\n      <td>Rondônia</td>\n      <td>Estado</td>\n      <td>srag</td>\n      <td>incidência</td>\n      <td>1</td>\n      <td>0.000000</td>\n      <td>0.000000</td>\n      <td>0.053353</td>\n      <td>0.160058</td>\n      <td>0.693586</td>\n      <td>0.906997</td>\n      <td>2010, 2013, 2014, 2016, 2018, 2019</td>\n      <td>1874318</td>\n    </tr>\n    <tr>\n      <th>1</th>\n      <td>11</td>\n      <td>Rondônia</td>\n      <td>Estado</td>\n      <td>srag</td>\n      <td>incidência</td>\n      <td>2</td>\n      <td>0.000000</td>\n      <td>0.000000</td>\n      <td>0.000000</td>\n      <td>0.160058</td>\n      <td>0.693586</td>\n      <td>0.906997</td>\n      <td>2010, 2013, 2014, 2016, 2018, 2019</td>\n      <td>1874318</td>\n    </tr>\n    <tr>\n      <th>2</th>\n      <td>11</td>\n      <td>Rondônia</td>\n      <td>Estado</td>\n      <td>srag</td>\n      <td>incidência</td>\n      <td>3</td>\n      <td>0.000000</td>\n      <td>0.000000</td>\n      <td>0.053353</td>\n      <td>0.160058</td>\n      <td>0.693586</td>\n      <td>0.906997</td>\n      <td>2010, 2013, 2014, 2016, 2018, 2019</td>\n      <td>1874318</td>\n    </tr>\n    <tr>\n      <th>3</th>\n      <td>11</td>\n      <td>Rondônia</td>\n      <td>Estado</td>\n      <td>srag</td>\n      <td>incidência</td>\n      <td>4</td>\n      <td>0.000000</td>\n      <td>0.053353</td>\n      <td>0.053353</td>\n      <td>0.160058</td>\n      <td>0.693586</td>\n      <td>0.906997</td>\n      <td>2010, 2013, 2014, 2016, 2018, 2019</td>\n      <td>1874318</td>\n    </tr>\n    <tr>\n      <th>4</th>\n      <td>11</td>\n      <td>Rondônia</td>\n      <td>Estado</td>\n      <td>srag</td>\n      <td>incidência</td>\n      <td>5</td>\n      <td>0.000000</td>\n      <td>0.000000</td>\n      <td>0.053353</td>\n      <td>0.160058</td>\n      <td>0.693586</td>\n      <td>0.906997</td>\n      <td>2010, 2013, 2014, 2016, 2018, 2019</td>\n      <td>1874318</td>\n    </tr>\n    <tr>\n      <th>5</th>\n      <td>11</td>\n      <td>Rondônia</td>\n      <td>Estado</td>\n      <td>srag</td>\n      <td>incidência</td>\n      <td>6</td>\n      <td>0.000000</td>\n      <td>0.053353</td>\n      <td>0.053353</td>\n      <td>0.160058</td>\n      <td>0.693586</td>\n      <td>0.906997</td>\n      <td>2010, 2013, 2014, 2016, 2018, 2019</td>\n      <td>1874318</td>\n    </tr>\n    <tr>\n      <th>6</th>\n      <td>11</td>\n      <td>Rondônia</td>\n      <td>Estado</td>\n      <td>srag</td>\n      <td>incidência</td>\n      <td>7</td>\n      <td>0.000000</td>\n      <td>0.000000</td>\n      <td>0.053353</td>\n      <td>0.160058</td>\n      <td>0.693586</td>\n      <td>0.906997</td>\n      <td>2010, 2013, 2014, 2016, 2018, 2019</td>\n      <td>1874318</td>\n    </tr>\n    <tr>\n      <th>7</th>\n      <td>11</td>\n      <td>Rondônia</td>\n      <td>Estado</td>\n      <td>srag</td>\n      <td>incidência</td>\n      <td>8</td>\n      <td>0.000000</td>\n      <td>0.000000</td>\n      <td>0.053353</td>\n      <td>0.160058</td>\n      <td>0.693586</td>\n      <td>0.906997</td>\n      <td>2010, 2013, 2014, 2016, 2018, 2019</td>\n      <td>1874318</td>\n    </tr>\n    <tr>\n      <th>8</th>\n      <td>11</td>\n      <td>Rondônia</td>\n      <td>Estado</td>\n      <td>srag</td>\n      <td>incidência</td>\n      <td>9</td>\n      <td>0.106705</td>\n      <td>0.106705</td>\n      <td>0.213411</td>\n      <td>0.160058</td>\n      <td>0.693586</td>\n      <td>0.906997</td>\n      <td>2010, 2013, 2014, 2016, 2018, 2019</td>\n      <td>1874318</td>\n    </tr>\n    <tr>\n      <th>9</th>\n      <td>11</td>\n      <td>Rondônia</td>\n      <td>Estado</td>\n      <td>srag</td>\n      <td>incidência</td>\n      <td>10</td>\n      <td>0.000000</td>\n      <td>0.106705</td>\n      <td>0.266764</td>\n      <td>0.160058</td>\n      <td>0.693586</td>\n      <td>0.906997</td>\n      <td>2010, 2013, 2014, 2016, 2018, 2019</td>\n      <td>1874318</td>\n    </tr>\n  </tbody>\n</table>\n</div>"
     },
     "execution_count": 8,
     "metadata": {},
     "output_type": "execute_result"
    }
   ],
   "source": [
    "df_localities = download(\"Valores esperados por localidades\")\n",
    "df_localities.head(10)\n"
   ],
   "metadata": {
    "collapsed": false,
    "ExecuteTime": {
     "end_time": "2023-11-30T16:55:52.138480669Z",
     "start_time": "2023-11-30T16:55:50.648561211Z"
    }
   },
   "id": "97293fae2709f013"
  },
  {
   "cell_type": "code",
   "execution_count": null,
   "outputs": [],
   "source": [],
   "metadata": {
    "collapsed": false
   },
   "id": "cab81e8188d78042"
  }
 ],
 "metadata": {
  "kernelspec": {
   "display_name": "Python 3",
   "language": "python",
   "name": "python3"
  },
  "language_info": {
   "codemirror_mode": {
    "name": "ipython",
    "version": 2
   },
   "file_extension": ".py",
   "mimetype": "text/x-python",
   "name": "python",
   "nbconvert_exporter": "python",
   "pygments_lexer": "ipython2",
   "version": "2.7.6"
  }
 },
 "nbformat": 4,
 "nbformat_minor": 5
}
