{
 "cells": [
  {
   "cell_type": "markdown",
   "metadata": {},
   "source": [
    "<a href=\"https://colab.research.google.com/github/AlertaDengue/curso-pysus/blob/main/DATASUS/SINAN.ipynb\" target=\"_parent\"><img src=\"https://colab.research.google.com/assets/colab-badge.svg\" alt=\"Open In Colab\"/></a>\n",
    "# Interagindo com os dados do SINAN\n",
    "\n",
    "O SINAN é o Sistema de Informação de Agravos de Notificação, que é alimentado pelos municípios e estados brasileiros. Os dados são disponibilizados pelo [DATASUS](http://www.datasus.gov.br)."
   ]
  },
  {
   "cell_type": "markdown",
   "metadata": {},
   "source": []
  },
  {
   "cell_type": "code",
   "execution_count": 1,
   "metadata": {},
   "outputs": [],
   "source": [
    "from pysus.online_data import SINAN, FTP_Inspect, parquets_to_dataframe\n",
    "import pandas as pd"
   ]
  },
  {
   "cell_type": "markdown",
   "metadata": {},
   "source": [
    "O SINAN monitora apenas um pequeno conjunto de doenças, que são as doenças de notificação compulsória. Para saber quais estão disponíveis para acesso por meio do PySUS, usaremos o seguinte comando:"
   ]
  },
  {
   "cell_type": "code",
   "execution_count": 2,
   "metadata": {},
   "outputs": [
    {
     "data": {
      "text/plain": [
       "{'ACBI': 'Acidente de trabalho com material biológico',\n",
       " 'ACGR': 'Acidente de trabalho',\n",
       " 'ANIM': 'Acidente por Animais Peçonhentos',\n",
       " 'ANTR': 'Atendimento Antirrabico',\n",
       " 'BOTU': 'Botulismo',\n",
       " 'CANC': 'Cancêr relacionado ao trabalho',\n",
       " 'CHAG': 'Doença de Chagas Aguda',\n",
       " 'CHIK': 'Febre de Chikungunya',\n",
       " 'COLE': 'Cólera',\n",
       " 'COQU': 'Coqueluche',\n",
       " 'DENG': 'Dengue',\n",
       " 'DERM': 'Dermatoses ocupacionais',\n",
       " 'DIFT': 'Difteria',\n",
       " 'ESQU': 'Esquistossomose',\n",
       " 'EXAN': 'Doença exantemáticas',\n",
       " 'FMAC': 'Febre Maculosa',\n",
       " 'FTIF': 'Febre Tifóide',\n",
       " 'HANS': 'Hanseníase',\n",
       " 'HANT': 'Hantavirose',\n",
       " 'HEPA': 'Hepatites Virais',\n",
       " 'IEXO': 'Intoxicação Exógena',\n",
       " 'INFL': 'Influenza Pandêmica',\n",
       " 'LEIV': 'Leishmaniose Visceral',\n",
       " 'LEPT': 'Leptospirose',\n",
       " 'LERD': 'LER/Dort',\n",
       " 'LTAN': 'Leishmaniose Tegumentar Americana',\n",
       " 'MALA': 'Malária',\n",
       " 'MENI': 'Meningite',\n",
       " 'MENT': 'Transtornos mentais relacionados ao trabalho',\n",
       " 'NTRA': 'Notificação de Tracoma',\n",
       " 'PAIR': 'Perda auditiva por ruído relacionado ao trabalho',\n",
       " 'PEST': 'Peste',\n",
       " 'PFAN': 'Paralisia Flácida Aguda',\n",
       " 'PNEU': 'Pneumoconioses realacionadas ao trabalho',\n",
       " 'RAIV': 'Raiva',\n",
       " 'SDTA': 'Surto Doenças Transmitidas por Alimentos',\n",
       " 'SIFA': 'Sífilis Adquirida',\n",
       " 'SIFC': 'Sífilis Congênita',\n",
       " 'SIFG': 'Sífilis em Gestante',\n",
       " 'SRC': 'Síndrome da Rubéola Congênia',\n",
       " 'TETA': 'Tétano Acidental',\n",
       " 'TETN': 'Tétano Neonatal',\n",
       " 'TOXC': 'Toxoplasmose Congênita',\n",
       " 'TOXG': 'Toxoplasmose Gestacional',\n",
       " 'TRAC': 'Inquérito de Tracoma',\n",
       " 'TUBE': 'Tuberculose',\n",
       " 'VARC': 'Varicela',\n",
       " 'VIOL': 'Violência doméstica, sexual e/ou outras violências',\n",
       " 'ZIKA': 'Zika Vírus'}"
      ]
     },
     "execution_count": 2,
     "metadata": {},
     "output_type": "execute_result"
    }
   ],
   "source": [
    "SINAN.list_diseases()"
   ]
  },
  {
   "cell_type": "code",
   "execution_count": null,
   "metadata": {},
   "outputs": [],
   "source": []
  }
 ],
 "metadata": {
  "kernelspec": {
   "display_name": ".venv",
   "language": "python",
   "name": "python3"
  },
  "language_info": {
   "codemirror_mode": {
    "name": "ipython",
    "version": 3
   },
   "file_extension": ".py",
   "mimetype": "text/x-python",
   "name": "python",
   "nbconvert_exporter": "python",
   "pygments_lexer": "ipython3",
   "version": "3.11.6"
  }
 },
 "nbformat": 4,
 "nbformat_minor": 2
}
