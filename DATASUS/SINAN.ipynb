{
 "cells": [
  {
   "cell_type": "markdown",
   "metadata": {},
   "source": [
    "<a href=\"https://colab.research.google.com/github/AlertaDengue/curso-pysus/blob/main/DATASUS/SINAN.ipynb\" target=\"_parent\"><img src=\"https://colab.research.google.com/assets/colab-badge.svg\" alt=\"Open In Colab\"/></a>\n",
    "# Interagindo com os dados do SINAN\n",
    "\n",
    "O SINAN é o Sistema de Informação de Agravos de Notificação, que é alimentado pelos municípios e estados brasileiros. Os dados são disponibilizados pelo [DATASUS](http://www.datasus.gov.br)."
   ]
  },
  {
   "cell_type": "markdown",
   "metadata": {},
   "source": []
  },
  {
   "cell_type": "code",
   "execution_count": 27,
   "metadata": {
    "ExecuteTime": {
     "end_time": "2023-11-30T13:49:24.014182217Z",
     "start_time": "2023-11-30T13:49:23.940770569Z"
    }
   },
   "outputs": [],
   "source": [
    "from pysus.online_data import SINAN, FTP_Inspect, parquets_to_dataframe\n",
    "import pandas as pd\n",
    "import warnings\n",
    "warnings.filterwarnings('ignore')"
   ]
  },
  {
   "cell_type": "markdown",
   "metadata": {},
   "source": [
    "O SINAN monitora apenas um pequeno conjunto de doenças, que são as doenças de notificação compulsória. Para saber quais estão disponíveis para acesso por meio do PySUS, usaremos o seguinte comando:"
   ]
  },
  {
   "cell_type": "code",
   "execution_count": 3,
   "metadata": {
    "ExecuteTime": {
     "end_time": "2023-11-30T12:58:54.149598226Z",
     "start_time": "2023-11-30T12:58:54.079304743Z"
    }
   },
   "outputs": [
    {
     "data": {
      "text/plain": "{'ACBI': 'Acidente de trabalho com material biológico',\n 'ACGR': 'Acidente de trabalho',\n 'ANIM': 'Acidente por Animais Peçonhentos',\n 'ANTR': 'Atendimento Antirrabico',\n 'BOTU': 'Botulismo',\n 'CANC': 'Cancêr relacionado ao trabalho',\n 'CHAG': 'Doença de Chagas Aguda',\n 'CHIK': 'Febre de Chikungunya',\n 'COLE': 'Cólera',\n 'COQU': 'Coqueluche',\n 'DENG': 'Dengue',\n 'DERM': 'Dermatoses ocupacionais',\n 'DIFT': 'Difteria',\n 'ESQU': 'Esquistossomose',\n 'EXAN': 'Doença exantemáticas',\n 'FMAC': 'Febre Maculosa',\n 'FTIF': 'Febre Tifóide',\n 'HANS': 'Hanseníase',\n 'HANT': 'Hantavirose',\n 'HEPA': 'Hepatites Virais',\n 'IEXO': 'Intoxicação Exógena',\n 'INFL': 'Influenza Pandêmica',\n 'LEIV': 'Leishmaniose Visceral',\n 'LEPT': 'Leptospirose',\n 'LERD': 'LER/Dort',\n 'LTAN': 'Leishmaniose Tegumentar Americana',\n 'MALA': 'Malária',\n 'MENI': 'Meningite',\n 'MENT': 'Transtornos mentais relacionados ao trabalho',\n 'NTRA': 'Notificação de Tracoma',\n 'PAIR': 'Perda auditiva por ruído relacionado ao trabalho',\n 'PEST': 'Peste',\n 'PFAN': 'Paralisia Flácida Aguda',\n 'PNEU': 'Pneumoconioses realacionadas ao trabalho',\n 'RAIV': 'Raiva',\n 'SDTA': 'Surto Doenças Transmitidas por Alimentos',\n 'SIFA': 'Sífilis Adquirida',\n 'SIFC': 'Sífilis Congênita',\n 'SIFG': 'Sífilis em Gestante',\n 'SRC': 'Síndrome da Rubéola Congênia',\n 'TETA': 'Tétano Acidental',\n 'TETN': 'Tétano Neonatal',\n 'TOXC': 'Toxoplasmose Congênita',\n 'TOXG': 'Toxoplasmose Gestacional',\n 'TRAC': 'Inquérito de Tracoma',\n 'TUBE': 'Tuberculose',\n 'VARC': 'Varicela',\n 'VIOL': 'Violência doméstica, sexual e/ou outras violências',\n 'ZIKA': 'Zika Vírus'}"
     },
     "execution_count": 3,
     "metadata": {},
     "output_type": "execute_result"
    }
   ],
   "source": [
    "SINAN.list_diseases()"
   ]
  },
  {
   "cell_type": "markdown",
   "source": [
    "## Baixando os dados de certo agravo\n",
    "O Módulos de datasets do PySUS todos possuem uma função download, que baixa os dados de um determinado agravo para um diretório local. Por exemplo, para baixar os dados de dengue, usamos o seguinte comando:"
   ],
   "metadata": {
    "collapsed": false
   }
  },
  {
   "cell_type": "code",
   "execution_count": 30,
   "metadata": {
    "ExecuteTime": {
     "end_time": "2023-11-30T13:50:15.578639835Z",
     "start_time": "2023-11-30T13:50:15.522972424Z"
    }
   },
   "outputs": [
    {
     "name": "stderr",
     "output_type": "stream",
     "text": [
      "100%|██████████| 110M/110M [00:00<00:00, 107GB/s]\n"
     ]
    },
    {
     "data": {
      "text/plain": "/home/fccoelho/pysus/DENGBR19.parquet"
     },
     "execution_count": 30,
     "metadata": {},
     "output_type": "execute_result"
    }
   ],
   "source": [
    "SINAN.download('Deng', years=2019)"
   ]
  },
  {
   "cell_type": "markdown",
   "source": [
    "Mas há uma API mais expressiva que também pode ser usada para baixar os dados."
   ],
   "metadata": {
    "collapsed": false
   }
  },
  {
   "cell_type": "code",
   "execution_count": 10,
   "outputs": [],
   "source": [
    "from pysus.ftp.databases.sinan import SINAN\n",
    "sinan = SINAN().load() # Loads the files from DATASUS"
   ],
   "metadata": {
    "collapsed": false,
    "ExecuteTime": {
     "end_time": "2023-11-30T13:23:26.193762043Z",
     "start_time": "2023-11-30T13:23:25.501697896Z"
    }
   }
  },
  {
   "cell_type": "markdown",
   "source": [
    "Com esta interface podemos inspecionar os dados disponíveis para download, antes de baixá-los."
   ],
   "metadata": {
    "collapsed": false
   }
  },
  {
   "cell_type": "code",
   "execution_count": 14,
   "outputs": [
    {
     "data": {
      "text/plain": "[DENGBR22.dbc, DENGBR23.dbc, ZIKABR22.dbc, ZIKABR23.dbc]"
     },
     "execution_count": 14,
     "metadata": {},
     "output_type": "execute_result"
    }
   ],
   "source": [
    "arquivos = sinan.get_files(dis_code=[\"DENG\", \"ZIKA\"], year=[2022, 2023])\n",
    "arquivos"
   ],
   "metadata": {
    "collapsed": false,
    "ExecuteTime": {
     "end_time": "2023-11-30T13:26:28.469651977Z",
     "start_time": "2023-11-30T13:26:28.412982546Z"
    }
   }
  },
  {
   "cell_type": "code",
   "execution_count": 18,
   "outputs": [
    {
     "name": "stdout",
     "output_type": "stream",
     "text": [
      "{'name': 'DENGBR22.dbc', 'disease': 'Dengue', 'year': 2022, 'size': '62.2 MB', 'last_update': '2023-08-21 03:20PM'}\n",
      "{'name': 'DENGBR23.dbc', 'disease': 'Dengue', 'year': 2023, 'size': '62.9 MB', 'last_update': '2023-08-21 03:20PM'}\n",
      "{'name': 'ZIKABR22.dbc', 'disease': 'Zika Vírus', 'year': 2022, 'size': '931.4 kB', 'last_update': '2023-08-23 10:10AM'}\n",
      "{'name': 'ZIKABR23.dbc', 'disease': 'Zika Vírus', 'year': 2023, 'size': '384.1 kB', 'last_update': '2023-08-23 10:11AM'}\n"
     ]
    }
   ],
   "source": [
    "for arq in arquivos:\n",
    "    print(sinan.describe(arq))\n"
   ],
   "metadata": {
    "collapsed": false,
    "ExecuteTime": {
     "end_time": "2023-11-30T13:28:15.201379967Z",
     "start_time": "2023-11-30T13:28:15.147996018Z"
    }
   }
  },
  {
   "cell_type": "code",
   "execution_count": 21,
   "outputs": [
    {
     "name": "stderr",
     "output_type": "stream",
     "text": [
      "100%|██████████| 384k/384k [00:00<00:00, 1.39GB/s]\n"
     ]
    },
    {
     "data": {
      "text/plain": "[/home/fccoelho/pysus/DENGBR22.parquet,\n /home/fccoelho/pysus/DENGBR23.parquet,\n /home/fccoelho/pysus/ZIKABR22.parquet,\n /home/fccoelho/pysus/ZIKABR23.parquet]"
     },
     "execution_count": 21,
     "metadata": {},
     "output_type": "execute_result"
    }
   ],
   "source": [
    "parquets = sinan.download(arquivos)\n",
    "parquets"
   ],
   "metadata": {
    "collapsed": false,
    "ExecuteTime": {
     "end_time": "2023-11-30T13:43:38.712453139Z",
     "start_time": "2023-11-30T13:43:38.669061145Z"
    }
   }
  },
  {
   "cell_type": "markdown",
   "source": [
    "vamos carregar para a memória os dados de Zika"
   ],
   "metadata": {
    "collapsed": false
   }
  },
  {
   "cell_type": "code",
   "execution_count": 28,
   "outputs": [
    {
     "name": "stdout",
     "output_type": "stream",
     "text": [
      "<class 'pandas.core.frame.DataFrame'>\n",
      "RangeIndex: 35121 entries, 0 to 35120\n",
      "Data columns (total 38 columns):\n",
      " #   Column      Non-Null Count  Dtype \n",
      "---  ------      --------------  ----- \n",
      " 0   TP_NOT      35121 non-null  string\n",
      " 1   ID_AGRAVO   35121 non-null  string\n",
      " 2   DT_NOTIFIC  35121 non-null  object\n",
      " 3   SEM_NOT     35121 non-null  string\n",
      " 4   NU_ANO      35121 non-null  string\n",
      " 5   SG_UF_NOT   35121 non-null  string\n",
      " 6   ID_MUNICIP  35121 non-null  string\n",
      " 7   ID_REGIONA  35121 non-null  string\n",
      " 8   ID_UNIDADE  35121 non-null  string\n",
      " 9   DT_SIN_PRI  35121 non-null  object\n",
      " 10  SEM_PRI     35121 non-null  string\n",
      " 11  ANO_NASC    35121 non-null  string\n",
      " 12  NU_IDADE_N  35121 non-null  string\n",
      " 13  CS_SEXO     35121 non-null  string\n",
      " 14  CS_GESTANT  35121 non-null  string\n",
      " 15  CS_RACA     35121 non-null  string\n",
      " 16  CS_ESCOL_N  35121 non-null  string\n",
      " 17  SG_UF       35121 non-null  string\n",
      " 18  ID_MN_RESI  35121 non-null  string\n",
      " 19  ID_RG_RESI  35121 non-null  string\n",
      " 20  ID_PAIS     35121 non-null  string\n",
      " 21  NDUPLIC_N   35121 non-null  string\n",
      " 22  IN_VINCULA  35121 non-null  string\n",
      " 23  DT_INVEST   35121 non-null  string\n",
      " 24  ID_OCUPA_N  35121 non-null  string\n",
      " 25  CLASSI_FIN  35121 non-null  string\n",
      " 26  CRITERIO    35121 non-null  string\n",
      " 27  TPAUTOCTO   35121 non-null  string\n",
      " 28  COUFINF     35121 non-null  string\n",
      " 29  COPAISINF   35121 non-null  string\n",
      " 30  COMUNINF    35121 non-null  string\n",
      " 31  DOENCA_TRA  35121 non-null  string\n",
      " 32  EVOLUCAO    35121 non-null  string\n",
      " 33  DT_OBITO    35121 non-null  string\n",
      " 34  DT_ENCERRA  35121 non-null  string\n",
      " 35  DT_DIGITA   35121 non-null  string\n",
      " 36  TP_SISTEMA  35121 non-null  string\n",
      " 37  TPUNINOT    35121 non-null  string\n",
      "dtypes: object(2), string(36)\n",
      "memory usage: 10.2+ MB\n"
     ]
    }
   ],
   "source": [
    "df = parquets[2].to_dataframe()\n",
    "df.info()"
   ],
   "metadata": {
    "collapsed": false,
    "ExecuteTime": {
     "end_time": "2023-11-30T13:49:44.383030734Z",
     "start_time": "2023-11-30T13:49:44.097274003Z"
    }
   }
  },
  {
   "cell_type": "markdown",
   "source": [
    "Se quisermos combinar os dois anos de Zika que baixamos basta usar o seguinte comando:"
   ],
   "metadata": {
    "collapsed": false
   }
  },
  {
   "cell_type": "code",
   "execution_count": 36,
   "outputs": [
    {
     "name": "stdout",
     "output_type": "stream",
     "text": [
      "<class 'pandas.core.frame.DataFrame'>\n",
      "Index: 49964 entries, 0 to 14842\n",
      "Data columns (total 38 columns):\n",
      " #   Column      Non-Null Count  Dtype \n",
      "---  ------      --------------  ----- \n",
      " 0   TP_NOT      49964 non-null  string\n",
      " 1   ID_AGRAVO   49964 non-null  string\n",
      " 2   DT_NOTIFIC  49964 non-null  object\n",
      " 3   SEM_NOT     49964 non-null  string\n",
      " 4   NU_ANO      49964 non-null  string\n",
      " 5   SG_UF_NOT   49964 non-null  string\n",
      " 6   ID_MUNICIP  49964 non-null  string\n",
      " 7   ID_REGIONA  49964 non-null  string\n",
      " 8   ID_UNIDADE  49964 non-null  string\n",
      " 9   DT_SIN_PRI  49964 non-null  object\n",
      " 10  SEM_PRI     49964 non-null  string\n",
      " 11  ANO_NASC    49964 non-null  string\n",
      " 12  NU_IDADE_N  49964 non-null  string\n",
      " 13  CS_SEXO     49964 non-null  string\n",
      " 14  CS_GESTANT  49964 non-null  string\n",
      " 15  CS_RACA     49964 non-null  string\n",
      " 16  CS_ESCOL_N  49964 non-null  string\n",
      " 17  SG_UF       49964 non-null  string\n",
      " 18  ID_MN_RESI  49964 non-null  string\n",
      " 19  ID_RG_RESI  49964 non-null  string\n",
      " 20  ID_PAIS     49964 non-null  string\n",
      " 21  NDUPLIC_N   49964 non-null  string\n",
      " 22  IN_VINCULA  49964 non-null  string\n",
      " 23  DT_INVEST   49964 non-null  string\n",
      " 24  ID_OCUPA_N  49964 non-null  string\n",
      " 25  CLASSI_FIN  49964 non-null  string\n",
      " 26  CRITERIO    49964 non-null  string\n",
      " 27  TPAUTOCTO   49964 non-null  string\n",
      " 28  COUFINF     49964 non-null  string\n",
      " 29  COPAISINF   49964 non-null  string\n",
      " 30  COMUNINF    49964 non-null  string\n",
      " 31  DOENCA_TRA  49964 non-null  string\n",
      " 32  EVOLUCAO    49964 non-null  string\n",
      " 33  DT_OBITO    49964 non-null  string\n",
      " 34  DT_ENCERRA  49964 non-null  string\n",
      " 35  DT_DIGITA   49964 non-null  string\n",
      " 36  TP_SISTEMA  49964 non-null  string\n",
      " 37  TPUNINOT    49964 non-null  string\n",
      "dtypes: object(2), string(36)\n",
      "memory usage: 14.9+ MB\n"
     ]
    }
   ],
   "source": [
    "df = pd.concat([parquets[2].to_dataframe(), parquets[3].to_dataframe()],axis=0)\n",
    "df.info()"
   ],
   "metadata": {
    "collapsed": false,
    "ExecuteTime": {
     "end_time": "2023-11-30T13:56:27.169926758Z",
     "start_time": "2023-11-30T13:56:26.651543787Z"
    }
   }
  },
  {
   "cell_type": "markdown",
   "source": [
    "Podemos fazer uma visualização bem simples dos dados. Mas antes precisamos converter as colunas com datas para o tipo datetime."
   ],
   "metadata": {
    "collapsed": false
   }
  },
  {
   "cell_type": "code",
   "execution_count": 37,
   "outputs": [],
   "source": [
    "for coluna in df.columns:\n",
    "    if coluna.startswith('DT'):\n",
    "        df[coluna] = pd.to_datetime(df[coluna], errors='coerce')"
   ],
   "metadata": {
    "collapsed": false,
    "ExecuteTime": {
     "end_time": "2023-11-30T13:56:30.153684622Z",
     "start_time": "2023-11-30T13:56:30.134761924Z"
    }
   }
  },
  {
   "cell_type": "code",
   "execution_count": 38,
   "outputs": [
    {
     "data": {
      "text/plain": "<Axes: xlabel='DT_NOTIFIC'>"
     },
     "execution_count": 38,
     "metadata": {},
     "output_type": "execute_result"
    },
    {
     "data": {
      "text/plain": "<Figure size 640x480 with 1 Axes>",
      "image/png": "[encoded data removed]"
     },
     "metadata": {},
     "output_type": "display_data"
    }
   ],
   "source": [
    "df.set_index('DT_NOTIFIC', inplace=True)\n",
    "df.resample('W').count()['ID_AGRAVO'].plot();"
   ],
   "metadata": {
    "collapsed": false,
    "ExecuteTime": {
     "end_time": "2023-11-30T13:56:31.742481572Z",
     "start_time": "2023-11-30T13:56:31.604434623Z"
    }
   }
  },
  {
   "cell_type": "code",
   "execution_count": null,
   "outputs": [],
   "source": [],
   "metadata": {
    "collapsed": false
   }
  }
 ],
 "metadata": {
  "kernelspec": {
   "display_name": ".venv",
   "language": "python",
   "name": "python3"
  },
  "language_info": {
   "codemirror_mode": {
    "name": "ipython",
    "version": 3
   },
   "file_extension": ".py",
   "mimetype": "text/x-python",
   "name": "python",
   "nbconvert_exporter": "python",
   "pygments_lexer": "ipython3",
   "version": "3.11.6"
  }
 },
 "nbformat": 4,
 "nbformat_minor": 2
}
