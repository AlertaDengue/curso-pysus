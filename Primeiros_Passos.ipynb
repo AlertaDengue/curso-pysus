{
 "cells": [
  {
   "cell_type": "markdown",
   "metadata": {
    "colab_type": "text",
    "id": "view-in-github"
   },
   "source": [
    "<a href=\"https://colab.research.google.com/github/AlertaDengue/curso-pysus/blob/main/Primeiros_Passos.ipynb\" target=\"_parent\"><img src=\"https://colab.research.google.com/assets/colab-badge.svg\" alt=\"Open In Colab\"/></a>"
   ]
  },
  {
   "cell_type": "markdown",
   "metadata": {
    "collapsed": false
   },
   "source": [
    "# Instalando o PySUS\n",
    "Para instalar o PySUS, basta executar o comando abaixo:"
   ]
  },
  {
   "cell_type": "code",
   "execution_count": 2,
   "metadata": {
    "ExecuteTime": {
     "end_time": "2023-11-29T16:15:01.573841678Z",
     "start_time": "2023-11-29T16:15:01.309177872Z"
    },
    "id": "hK_EwDxwj2DN"
   },
   "outputs": [
    {
     "name": "stdout",
     "output_type": "stream",
     "text": [
      "exec: Failed to execute process '/home/fccoelho/.local/bin/pip': The file specified the interpreter '/home/fccoelho/MEGAsync/Papers/DENGUE-SC/.venv/local/bin/python3', which is not an executable command.\r\n"
     ]
    }
   ],
   "source": [
    "!pip install pysus"
   ]
  },
  {
   "cell_type": "markdown",
   "metadata": {
    "collapsed": false
   },
   "source": [
    "Se você está utilizando o Google Colab, lembre-se de reiniciar o ambiente de execução após a instalação."
   ]
  },
  {
   "cell_type": "markdown",
   "metadata": {
    "collapsed": false
   },
   "source": [
    "## Explorando as funcionalidades do PySUS\n",
    "O PySUS é uma biblioteca que permite o acesso a dados públicos do SUS. Atualmente, o PySUS permite o acesso a dados do SINAN, SIH, SIA, SIM, PNI, CIHA, SINASC e CNES, dentre outras.\n",
    "\n",
    "Além dos dados do DATASUS, o PySUS também facilita o acesso a dados de outras fontes, como o IBGE, e os projetos InfoGripe e InfoDengue.\n",
    "\n",
    "## Gerenciando os dados\n",
    "O PySUS permite o acesso a dados públicos do SUS de forma simples e direta. Para isso, basta importar o módulo de interesse e utilizar as funções disponíveis. O dados são salvos localmente no cache local do PySUS, que por default é o diretório `~/pysus`. (diretório pysus na pasta home do usuário). Os dados podem ser acessados posteriormente sem a necessidade de realizar o download novamente. Os dados são salvos em formato Parquet, que é um formato de dados colunar, que permite o acesso rápido aos dados."
   ]
  },
  {
   "cell_type": "code",
   "execution_count": 2,
   "metadata": {
    "ExecuteTime": {
     "end_time": "2023-11-29T16:11:49.036327100Z",
     "start_time": "2023-11-29T16:11:49.008815Z"
    },
    "collapsed": false
   },
   "outputs": [
    {
     "ename": "ModuleNotFoundError",
     "evalue": "No module named 'pysus'",
     "output_type": "error",
     "traceback": [
      "\u001b[0;31m---------------------------------------------------------------------------\u001b[0m",
      "\u001b[0;31mModuleNotFoundError\u001b[0m                       Traceback (most recent call last)",
      "Cell \u001b[0;32mIn[2], line 1\u001b[0m\n\u001b[0;32m----> 1\u001b[0m \u001b[38;5;28;01mfrom\u001b[39;00m \u001b[38;5;21;01mpysus\u001b[39;00m\u001b[38;5;21;01m.\u001b[39;00m\u001b[38;5;21;01monline_data\u001b[39;00m \u001b[38;5;28;01mimport\u001b[39;00m SINAN, FTP_Inspect, parquets_to_dataframe\n\u001b[1;32m      2\u001b[0m \u001b[38;5;28;01mimport\u001b[39;00m \u001b[38;5;21;01mpandas\u001b[39;00m \u001b[38;5;28;01mas\u001b[39;00m \u001b[38;5;21;01mpd\u001b[39;00m\n",
      "\u001b[0;31mModuleNotFoundError\u001b[0m: No module named 'pysus'"
     ]
    }
   ],
   "source": [
    "from pysus.online_data import SINAN, FTP_Inspect, parquets_to_dataframe\n",
    "import pandas as pd"
   ]
  },
  {
   "cell_type": "code",
   "execution_count": null,
   "metadata": {
    "collapsed": false
   },
   "outputs": [],
   "source": []
  }
 ],
 "metadata": {
  "colab": {
   "authorship_tag": "ABX9TyP9XFb9GnZ0pDuwyhqvRr05",
   "include_colab_link": true,
   "provenance": []
  },
  "kernelspec": {
   "display_name": ".venv",
   "language": "python",
   "name": "python3"
  },
  "language_info": {
   "codemirror_mode": {
    "name": "ipython",
    "version": 3
   },
   "file_extension": ".py",
   "mimetype": "text/x-python",
   "name": "python",
   "nbconvert_exporter": "python",
   "pygments_lexer": "ipython3",
   "version": "3.11.6"
  }
 },
 "nbformat": 4,
 "nbformat_minor": 0
}
