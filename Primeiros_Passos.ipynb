{
 "cells": [
  {
   "cell_type": "markdown",
   "metadata": {
    "colab_type": "text",
    "id": "view-in-github"
   },
   "source": [
    "<a href=\"https://colab.research.google.com/github/AlertaDengue/curso-pysus/blob/main/Primeiros_Passos.ipynb\" target=\"_parent\"><img src=\"https://colab.research.google.com/assets/colab-badge.svg\" alt=\"Open In Colab\"/></a>"
   ]
  },
  {
   "cell_type": "markdown",
   "metadata": {
    "collapsed": false
   },
   "source": [
    "# Instalando o PySUS\n",
    "Para instalar o PySUS, basta executar o comando abaixo:"
   ]
  },
  {
   "cell_type": "code",
   "execution_count": 2,
   "metadata": {
    "ExecuteTime": {
     "end_time": "2023-11-29T16:15:01.573841678Z",
     "start_time": "2023-11-29T16:15:01.309177872Z"
    },
    "id": "hK_EwDxwj2DN"
   },
   "outputs": [
    {
     "name": "stdout",
     "output_type": "stream",
     "text": [
      "exec: Failed to execute process '/home/fccoelho/.local/bin/pip': The file specified the interpreter '/home/fccoelho/MEGAsync/Papers/DENGUE-SC/.venv/local/bin/python3', which is not an executable command.\r\n"
     ]
    }
   ],
   "source": [
    "!pip install pysus"
   ]
  },
  {
   "cell_type": "markdown",
   "metadata": {
    "collapsed": false
   },
   "source": [
    "Se você está utilizando o Google Colab, lembre-se de reiniciar o ambiente de execução após a instalação."
   ]
  },
  {
   "cell_type": "markdown",
   "metadata": {
    "collapsed": false
   },
   "source": [
    "## Explorando as funcionalidades do PySUS\n",
    "O PySUS é uma biblioteca que permite o acesso a dados públicos do SUS. Atualmente, o PySUS permite o acesso a dados do SINAN, SIH, SIA, SIM, PNI, CIHA, SINASC e CNES, dentre outras.\n",
    "\n",
    "Além dos dados do DATASUS, o PySUS também facilita o acesso a dados de outras fontes, como o IBGE, e os projetos InfoGripe e InfoDengue.\n",
    "\n",
    "## Gerenciando os dados\n",
    "O PySUS permite o acesso a dados públicos do SUS de forma simples e direta. Para isso, basta importar o módulo de interesse e utilizar as funções disponíveis. O dados são salvos localmente no cache local do PySUS, que por default é o diretório `~/pysus`. (diretório pysus na pasta home do usuário). Os dados podem ser acessados posteriormente sem a necessidade de realizar o download novamente. Os dados são salvos em formato Parquet, que é um formato de dados colunar, que permite o acesso rápido aos dados.\n",
    "\n",
    "Caso você queira obter a última versão disponível de um conjunto de dados,lembre-se de apagar o arquivo correspondente no diretório de cache do PySUS, caso você já o tenha baixado anteriormente."
   ]
  },
  {
   "cell_type": "code",
   "execution_count": 7,
   "metadata": {
    "ExecuteTime": {
     "end_time": "2023-11-29T16:11:49.036327100Z",
     "start_time": "2023-11-29T16:11:49.008815Z"
    },
    "collapsed": false
   },
   "outputs": [],
   "source": [
    "from pysus.online_data import SIM, parquets_to_dataframe"
   ]
  },
  {
   "cell_type": "markdown",
   "metadata": {},
   "source": [
    "Como um exemplo, vamos baixar dados de mortalidade do estado do Rio de Janeiro em 2018. Para faciliter o manuseio dos dados o PySUS divide o conjunto de dados em vários arquivos e os coloca em um diretório."
   ]
  },
  {
   "cell_type": "code",
   "execution_count": 16,
   "metadata": {
    "collapsed": false
   },
   "outputs": [
    {
     "name": "stderr",
     "output_type": "stream",
     "text": [
      "100%|██████████| 10.9M/10.9M [00:00<00:00, 6.67GB/s]\n"
     ]
    },
    {
     "data": {
      "text/plain": [
       "/home/fccoelho/pysus/DORJ2018.parquet"
      ]
     },
     "execution_count": 16,
     "metadata": {},
     "output_type": "execute_result"
    }
   ],
   "source": [
    "arquivos = SIM.download(groups=[\"cid10\"],states='RJ', years=2018)\n",
    "arquivos"
   ]
  },
  {
   "cell_type": "code",
   "execution_count": 22,
   "metadata": {},
   "outputs": [
    {
     "name": "stderr",
     "output_type": "stream",
     "text": [
      "/home/fccoelho/MEGAsync/Cursos/curso-pysus/.venv/lib/python3.11/site-packages/fastparquet/dataframe.py:227: FutureWarning: is_categorical_dtype is deprecated and will be removed in a future version. Use isinstance(dtype, CategoricalDtype) instead\n",
      "  if is_categorical_dtype(dtype):\n",
      "/home/fccoelho/MEGAsync/Cursos/curso-pysus/.venv/lib/python3.11/site-packages/pysus/online_data/__init__.py:111: FutureWarning: DataFrame.applymap has been deprecated. Use DataFrame.map instead.\n",
      "  df[columns] = df[columns].applymap(func)\n",
      "/home/fccoelho/MEGAsync/Cursos/curso-pysus/.venv/lib/python3.11/site-packages/pysus/online_data/__init__.py:111: FutureWarning: DataFrame.applymap has been deprecated. Use DataFrame.map instead.\n",
      "  df[columns] = df[columns].applymap(func)\n",
      "/home/fccoelho/MEGAsync/Cursos/curso-pysus/.venv/lib/python3.11/site-packages/pysus/online_data/__init__.py:131: FutureWarning: DataFrame.applymap has been deprecated. Use DataFrame.map instead.\n",
      "  df = df.applymap(\n"
     ]
    },
    {
     "data": {
      "text/html": [
       "<div>\n",
       "<style scoped>\n",
       "    .dataframe tbody tr th:only-of-type {\n",
       "        vertical-align: middle;\n",
       "    }\n",
       "\n",
       "    .dataframe tbody tr th {\n",
       "        vertical-align: top;\n",
       "    }\n",
       "\n",
       "    .dataframe thead th {\n",
       "        text-align: right;\n",
       "    }\n",
       "</style>\n",
       "<table border=\"1\" class=\"dataframe\">\n",
       "  <thead>\n",
       "    <tr style=\"text-align: right;\">\n",
       "      <th></th>\n",
       "      <th>ORIGEM</th>\n",
       "      <th>TIPOBITO</th>\n",
       "      <th>DTOBITO</th>\n",
       "      <th>HORAOBITO</th>\n",
       "      <th>NATURAL</th>\n",
       "      <th>CODMUNNATU</th>\n",
       "      <th>DTNASC</th>\n",
       "      <th>IDADE</th>\n",
       "      <th>SEXO</th>\n",
       "      <th>RACACOR</th>\n",
       "      <th>...</th>\n",
       "      <th>FONTES</th>\n",
       "      <th>TPRESGINFO</th>\n",
       "      <th>TPNIVELINV</th>\n",
       "      <th>NUDIASINF</th>\n",
       "      <th>DTCADINF</th>\n",
       "      <th>MORTEPARTO</th>\n",
       "      <th>DTCONCASO</th>\n",
       "      <th>FONTESINF</th>\n",
       "      <th>ALTCAUSA</th>\n",
       "      <th>CONTADOR</th>\n",
       "    </tr>\n",
       "  </thead>\n",
       "  <tbody>\n",
       "    <tr>\n",
       "      <th>0</th>\n",
       "      <td>1</td>\n",
       "      <td>2</td>\n",
       "      <td>23022018</td>\n",
       "      <td>0530</td>\n",
       "      <td>833</td>\n",
       "      <td>330455</td>\n",
       "      <td>20121935</td>\n",
       "      <td>482</td>\n",
       "      <td>2</td>\n",
       "      <td>1</td>\n",
       "      <td>...</td>\n",
       "      <td></td>\n",
       "      <td></td>\n",
       "      <td></td>\n",
       "      <td></td>\n",
       "      <td></td>\n",
       "      <td></td>\n",
       "      <td></td>\n",
       "      <td></td>\n",
       "      <td></td>\n",
       "      <td>1</td>\n",
       "    </tr>\n",
       "    <tr>\n",
       "      <th>1</th>\n",
       "      <td>1</td>\n",
       "      <td>2</td>\n",
       "      <td>07042018</td>\n",
       "      <td>0945</td>\n",
       "      <td>833</td>\n",
       "      <td>330630</td>\n",
       "      <td>23031948</td>\n",
       "      <td>470</td>\n",
       "      <td>2</td>\n",
       "      <td>1</td>\n",
       "      <td>...</td>\n",
       "      <td></td>\n",
       "      <td></td>\n",
       "      <td></td>\n",
       "      <td></td>\n",
       "      <td></td>\n",
       "      <td></td>\n",
       "      <td></td>\n",
       "      <td></td>\n",
       "      <td></td>\n",
       "      <td>2</td>\n",
       "    </tr>\n",
       "    <tr>\n",
       "      <th>2</th>\n",
       "      <td>1</td>\n",
       "      <td>2</td>\n",
       "      <td>24042018</td>\n",
       "      <td>0940</td>\n",
       "      <td>833</td>\n",
       "      <td>330630</td>\n",
       "      <td>24031931</td>\n",
       "      <td>487</td>\n",
       "      <td>2</td>\n",
       "      <td>1</td>\n",
       "      <td>...</td>\n",
       "      <td></td>\n",
       "      <td></td>\n",
       "      <td></td>\n",
       "      <td></td>\n",
       "      <td></td>\n",
       "      <td></td>\n",
       "      <td></td>\n",
       "      <td></td>\n",
       "      <td></td>\n",
       "      <td>3</td>\n",
       "    </tr>\n",
       "    <tr>\n",
       "      <th>3</th>\n",
       "      <td>1</td>\n",
       "      <td>2</td>\n",
       "      <td>17012018</td>\n",
       "      <td>1215</td>\n",
       "      <td>833</td>\n",
       "      <td>330630</td>\n",
       "      <td>11011938</td>\n",
       "      <td>480</td>\n",
       "      <td>1</td>\n",
       "      <td>1</td>\n",
       "      <td>...</td>\n",
       "      <td></td>\n",
       "      <td></td>\n",
       "      <td></td>\n",
       "      <td></td>\n",
       "      <td></td>\n",
       "      <td></td>\n",
       "      <td></td>\n",
       "      <td></td>\n",
       "      <td></td>\n",
       "      <td>4</td>\n",
       "    </tr>\n",
       "    <tr>\n",
       "      <th>4</th>\n",
       "      <td>1</td>\n",
       "      <td>2</td>\n",
       "      <td>18082018</td>\n",
       "      <td>1600</td>\n",
       "      <td>833</td>\n",
       "      <td>330630</td>\n",
       "      <td>15081927</td>\n",
       "      <td>491</td>\n",
       "      <td>2</td>\n",
       "      <td>1</td>\n",
       "      <td>...</td>\n",
       "      <td></td>\n",
       "      <td></td>\n",
       "      <td></td>\n",
       "      <td></td>\n",
       "      <td></td>\n",
       "      <td></td>\n",
       "      <td></td>\n",
       "      <td></td>\n",
       "      <td></td>\n",
       "      <td>5</td>\n",
       "    </tr>\n",
       "    <tr>\n",
       "      <th>...</th>\n",
       "      <td>...</td>\n",
       "      <td>...</td>\n",
       "      <td>...</td>\n",
       "      <td>...</td>\n",
       "      <td>...</td>\n",
       "      <td>...</td>\n",
       "      <td>...</td>\n",
       "      <td>...</td>\n",
       "      <td>...</td>\n",
       "      <td>...</td>\n",
       "      <td>...</td>\n",
       "      <td>...</td>\n",
       "      <td>...</td>\n",
       "      <td>...</td>\n",
       "      <td>...</td>\n",
       "      <td>...</td>\n",
       "      <td>...</td>\n",
       "      <td>...</td>\n",
       "      <td>...</td>\n",
       "      <td>...</td>\n",
       "      <td>...</td>\n",
       "    </tr>\n",
       "    <tr>\n",
       "      <th>140701</th>\n",
       "      <td>1</td>\n",
       "      <td>2</td>\n",
       "      <td>27122018</td>\n",
       "      <td>1544</td>\n",
       "      <td>835</td>\n",
       "      <td>352270</td>\n",
       "      <td>04051955</td>\n",
       "      <td>463</td>\n",
       "      <td>1</td>\n",
       "      <td>1</td>\n",
       "      <td>...</td>\n",
       "      <td></td>\n",
       "      <td></td>\n",
       "      <td></td>\n",
       "      <td></td>\n",
       "      <td></td>\n",
       "      <td></td>\n",
       "      <td></td>\n",
       "      <td></td>\n",
       "      <td></td>\n",
       "      <td>1311220</td>\n",
       "    </tr>\n",
       "    <tr>\n",
       "      <th>140702</th>\n",
       "      <td>1</td>\n",
       "      <td>2</td>\n",
       "      <td>27112018</td>\n",
       "      <td>0432</td>\n",
       "      <td>833</td>\n",
       "      <td>330480</td>\n",
       "      <td>20081993</td>\n",
       "      <td>425</td>\n",
       "      <td>1</td>\n",
       "      <td>1</td>\n",
       "      <td>...</td>\n",
       "      <td></td>\n",
       "      <td></td>\n",
       "      <td></td>\n",
       "      <td></td>\n",
       "      <td></td>\n",
       "      <td></td>\n",
       "      <td></td>\n",
       "      <td></td>\n",
       "      <td></td>\n",
       "      <td>1311758</td>\n",
       "    </tr>\n",
       "    <tr>\n",
       "      <th>140703</th>\n",
       "      <td>1</td>\n",
       "      <td>2</td>\n",
       "      <td>22122018</td>\n",
       "      <td>1440</td>\n",
       "      <td>833</td>\n",
       "      <td>330455</td>\n",
       "      <td>03021959</td>\n",
       "      <td>459</td>\n",
       "      <td>2</td>\n",
       "      <td>1</td>\n",
       "      <td>...</td>\n",
       "      <td></td>\n",
       "      <td></td>\n",
       "      <td></td>\n",
       "      <td></td>\n",
       "      <td></td>\n",
       "      <td></td>\n",
       "      <td></td>\n",
       "      <td></td>\n",
       "      <td></td>\n",
       "      <td>1313325</td>\n",
       "    </tr>\n",
       "    <tr>\n",
       "      <th>140704</th>\n",
       "      <td>1</td>\n",
       "      <td>2</td>\n",
       "      <td>05122018</td>\n",
       "      <td>1838</td>\n",
       "      <td>831</td>\n",
       "      <td>312650</td>\n",
       "      <td>16031934</td>\n",
       "      <td>484</td>\n",
       "      <td>2</td>\n",
       "      <td>1</td>\n",
       "      <td>...</td>\n",
       "      <td></td>\n",
       "      <td></td>\n",
       "      <td></td>\n",
       "      <td></td>\n",
       "      <td></td>\n",
       "      <td></td>\n",
       "      <td></td>\n",
       "      <td></td>\n",
       "      <td></td>\n",
       "      <td>1313745</td>\n",
       "    </tr>\n",
       "    <tr>\n",
       "      <th>140705</th>\n",
       "      <td>1</td>\n",
       "      <td>2</td>\n",
       "      <td>29122018</td>\n",
       "      <td>1234</td>\n",
       "      <td>833</td>\n",
       "      <td>330455</td>\n",
       "      <td>27041960</td>\n",
       "      <td>458</td>\n",
       "      <td>2</td>\n",
       "      <td>1</td>\n",
       "      <td>...</td>\n",
       "      <td></td>\n",
       "      <td></td>\n",
       "      <td></td>\n",
       "      <td></td>\n",
       "      <td></td>\n",
       "      <td></td>\n",
       "      <td></td>\n",
       "      <td></td>\n",
       "      <td></td>\n",
       "      <td>1314278</td>\n",
       "    </tr>\n",
       "  </tbody>\n",
       "</table>\n",
       "<p>140706 rows × 88 columns</p>\n",
       "</div>"
      ],
      "text/plain": [
       "       ORIGEM TIPOBITO   DTOBITO HORAOBITO NATURAL CODMUNNATU    DTNASC IDADE  \\\n",
       "0           1        2  23022018     0530      833    330455   20121935   482   \n",
       "1           1        2  07042018     0945      833    330630   23031948   470   \n",
       "2           1        2  24042018     0940      833    330630   24031931   487   \n",
       "3           1        2  17012018     1215      833    330630   11011938   480   \n",
       "4           1        2  18082018     1600      833    330630   15081927   491   \n",
       "...       ...      ...       ...       ...     ...        ...       ...   ...   \n",
       "140701      1        2  27122018     1544      835    352270   04051955   463   \n",
       "140702      1        2  27112018     0432      833    330480   20081993   425   \n",
       "140703      1        2  22122018     1440      833    330455   03021959   459   \n",
       "140704      1        2  05122018     1838      831    312650   16031934   484   \n",
       "140705      1        2  29122018     1234      833    330455   27041960   458   \n",
       "\n",
       "        SEXO RACACOR  ... FONTES TPRESGINFO TPNIVELINV NUDIASINF DTCADINF  \\\n",
       "0          2       1  ...                                                   \n",
       "1          2       1  ...                                                   \n",
       "2          2       1  ...                                                   \n",
       "3          1       1  ...                                                   \n",
       "4          2       1  ...                                                   \n",
       "...      ...     ...  ...    ...        ...        ...       ...      ...   \n",
       "140701     1       1  ...                                                   \n",
       "140702     1       1  ...                                                   \n",
       "140703     2       1  ...                                                   \n",
       "140704     2       1  ...                                                   \n",
       "140705     2       1  ...                                                   \n",
       "\n",
       "        MORTEPARTO DTCONCASO FONTESINF ALTCAUSA  CONTADOR  \n",
       "0                                                1         \n",
       "1                                                2         \n",
       "2                                                3         \n",
       "3                                                4         \n",
       "4                                                5         \n",
       "...            ...       ...       ...      ...       ...  \n",
       "140701                                           1311220   \n",
       "140702                                           1311758   \n",
       "140703                                           1313325   \n",
       "140704                                           1313745   \n",
       "140705                                           1314278   \n",
       "\n",
       "[140706 rows x 88 columns]"
      ]
     },
     "execution_count": 22,
     "metadata": {},
     "output_type": "execute_result"
    }
   ],
   "source": [
    "import os \n",
    "df = parquets_to_dataframe(arquivos.path)\n",
    "df"
   ]
  },
  {
   "cell_type": "code",
   "execution_count": 19,
   "metadata": {},
   "outputs": [
    {
     "ename": "TypeError",
     "evalue": "listdir: path should be string, bytes, os.PathLike, integer or None, not ParquetSet",
     "output_type": "error",
     "traceback": [
      "\u001b[0;31m---------------------------------------------------------------------------\u001b[0m",
      "\u001b[0;31mTypeError\u001b[0m                                 Traceback (most recent call last)",
      "\u001b[1;32m/home/fccoelho/MEGAsync/Cursos/curso-pysus/Primeiros_Passos.ipynb Célula 10\u001b[0m line \u001b[0;36m1\n\u001b[0;32m----> <a href='vscode-notebook-cell:/home/fccoelho/MEGAsync/Cursos/curso-pysus/Primeiros_Passos.ipynb#X12sZmlsZQ%3D%3D?line=0'>1</a>\u001b[0m os\u001b[39m.\u001b[39;49mlistdir(arquivos)\n",
      "\u001b[0;31mTypeError\u001b[0m: listdir: path should be string, bytes, os.PathLike, integer or None, not ParquetSet"
     ]
    }
   ],
   "source": [
    "os.listdir(arquivos)"
   ]
  },
  {
   "cell_type": "code",
   "execution_count": 21,
   "metadata": {},
   "outputs": [
    {
     "data": {
      "text/plain": [
       "['__annotations__',\n",
       " '__class__',\n",
       " '__delattr__',\n",
       " '__dict__',\n",
       " '__dir__',\n",
       " '__doc__',\n",
       " '__eq__',\n",
       " '__format__',\n",
       " '__ge__',\n",
       " '__getattribute__',\n",
       " '__getstate__',\n",
       " '__gt__',\n",
       " '__hash__',\n",
       " '__init__',\n",
       " '__init_subclass__',\n",
       " '__le__',\n",
       " '__lt__',\n",
       " '__module__',\n",
       " '__ne__',\n",
       " '__new__',\n",
       " '__path__',\n",
       " '__reduce__',\n",
       " '__reduce_ex__',\n",
       " '__repr__',\n",
       " '__setattr__',\n",
       " '__sizeof__',\n",
       " '__str__',\n",
       " '__subclasshook__',\n",
       " '__weakref__',\n",
       " 'info',\n",
       " 'path',\n",
       " 'to_dataframe']"
      ]
     },
     "execution_count": 21,
     "metadata": {},
     "output_type": "execute_result"
    }
   ],
   "source": [
    "dir(arquivos)"
   ]
  },
  {
   "cell_type": "code",
   "execution_count": null,
   "metadata": {},
   "outputs": [],
   "source": []
  }
 ],
 "metadata": {
  "colab": {
   "authorship_tag": "ABX9TyP9XFb9GnZ0pDuwyhqvRr05",
   "include_colab_link": true,
   "provenance": []
  },
  "kernelspec": {
   "display_name": ".venv",
   "language": "python",
   "name": "python3"
  },
  "language_info": {
   "codemirror_mode": {
    "name": "ipython",
    "version": 3
   },
   "file_extension": ".py",
   "mimetype": "text/x-python",
   "name": "python",
   "nbconvert_exporter": "python",
   "pygments_lexer": "ipython3",
   "version": "3.11.6"
  }
 },
 "nbformat": 4,
 "nbformat_minor": 0
}
