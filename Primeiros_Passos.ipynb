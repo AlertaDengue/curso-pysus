{
 "cells": [
  {
   "cell_type": "markdown",
   "metadata": {
    "colab_type": "text",
    "id": "view-in-github"
   },
   "source": [
    "<a href=\"https://colab.research.google.com/github/AlertaDengue/curso-pysus/blob/main/Primeiros_Passos.ipynb\" target=\"_parent\"><img src=\"https://colab.research.google.com/assets/colab-badge.svg\" alt=\"Open In Colab\"/></a>"
   ]
  },
  {
   "cell_type": "markdown",
   "metadata": {
    "collapsed": false
   },
   "source": [
    "# Instalando o PySUS\n",
    "Para instalar o PySUS, basta executar o comando abaixo:"
   ]
  },
  {
   "cell_type": "code",
   "execution_count": 2,
   "metadata": {
    "ExecuteTime": {
     "end_time": "2023-11-29T16:15:01.573841678Z",
     "start_time": "2023-11-29T16:15:01.309177872Z"
    },
    "id": "hK_EwDxwj2DN"
   },
   "outputs": [
    {
     "name": "stdout",
     "output_type": "stream",
     "text": [
      "exec: Failed to execute process '/home/fccoelho/.local/bin/pip': The file specified the interpreter '/home/fccoelho/MEGAsync/Papers/DENGUE-SC/.venv/local/bin/python3', which is not an executable command.\r\n"
     ]
    }
   ],
   "source": [
    "!pip install pysus"
   ]
  },
  {
   "cell_type": "markdown",
   "metadata": {
    "collapsed": false
   },
   "source": [
    "Se você está utilizando o Google Colab, lembre-se de reiniciar o ambiente de execução após a instalação."
   ]
  },
  {
   "cell_type": "markdown",
   "metadata": {
    "collapsed": false
   },
   "source": [
    "## Explorando as funcionalidades do PySUS\n",
    "O PySUS é uma biblioteca que permite o acesso a dados públicos do SUS. Atualmente, o PySUS permite o acesso a dados do SINAN, SIH, SIA, SIM, PNI, CIHA, SINASC e CNES, dentre outras.\n",
    "\n",
    "Além dos dados do DATASUS, o PySUS também facilita o acesso a dados de outras fontes, como o IBGE, e os projetos InfoGripe e InfoDengue.\n",
    "\n",
    "## Gerenciando os dados\n",
    "O PySUS permite o acesso a dados públicos do SUS de forma simples e direta. Para isso, basta importar o módulo de interesse e utilizar as funções disponíveis. O dados são salvos localmente no cache local do PySUS, que por default é o diretório `~/pysus`. (diretório pysus na pasta home do usuário). Os dados podem ser acessados posteriormente sem a necessidade de realizar o download novamente. Os dados são salvos em formato Parquet, que é um formato de dados colunar, que permite o acesso rápido aos dados.\n",
    "\n",
    "Caso você queira obter a última versão disponível de um conjunto de dados,lembre-se de apagar o arquivo correspondente no diretório de cache do PySUS, caso você já o tenha baixado anteriormente."
   ]
  },
  {
   "cell_type": "code",
   "execution_count": 1,
   "metadata": {
    "ExecuteTime": {
     "end_time": "2023-11-29T16:11:49.036327100Z",
     "start_time": "2023-11-29T16:11:49.008815Z"
    },
    "collapsed": false
   },
   "outputs": [],
   "source": [
    "from pysus.online_data import SIM, parquets_to_dataframe"
   ]
  },
  {
   "cell_type": "markdown",
   "metadata": {},
   "source": [
    "Como um exemplo, vamos baixar dados de mortalidade do estado do Rio de Janeiro em 2018. Para faciliter o manuseio dos dados o PySUS divide o conjunto de dados em vários arquivos e os coloca em um diretório."
   ]
  },
  {
   "cell_type": "code",
   "execution_count": 2,
   "metadata": {
    "collapsed": false
   },
   "outputs": [
    {
     "name": "stderr",
     "output_type": "stream",
     "text": [
      "100%|██████████| 10.9M/10.9M [00:00<00:00, 4.26GB/s]\n"
     ]
    },
    {
     "data": {
      "text/plain": [
       "/home/fccoelho/pysus/DORJ2018.parquet"
      ]
     },
     "execution_count": 2,
     "metadata": {},
     "output_type": "execute_result"
    }
   ],
   "source": [
    "arquivos = SIM.download(groups=[\"cid10\"],states='RJ', years=2018)\n",
    "arquivos"
   ]
  },
  {
   "cell_type": "code",
   "execution_count": 10,
   "metadata": {},
   "outputs": [
    {
     "name": "stderr",
     "output_type": "stream",
     "text": [
      "/home/fccoelho/MEGAsync/Cursos/curso-pysus/.venv/lib/python3.11/site-packages/fastparquet/dataframe.py:227: FutureWarning: is_categorical_dtype is deprecated and will be removed in a future version. Use isinstance(dtype, CategoricalDtype) instead\n",
      "  if is_categorical_dtype(dtype):\n",
      "/home/fccoelho/MEGAsync/Cursos/curso-pysus/.venv/lib/python3.11/site-packages/pysus/data/__init__.py:138: FutureWarning: DataFrame.applymap has been deprecated. Use DataFrame.map instead.\n",
      "  df[columns] = df[columns].applymap(func)\n",
      "/home/fccoelho/MEGAsync/Cursos/curso-pysus/.venv/lib/python3.11/site-packages/pysus/data/__init__.py:138: FutureWarning: DataFrame.applymap has been deprecated. Use DataFrame.map instead.\n",
      "  df[columns] = df[columns].applymap(func)\n",
      "/home/fccoelho/MEGAsync/Cursos/curso-pysus/.venv/lib/python3.11/site-packages/pysus/data/__init__.py:160: FutureWarning: DataFrame.applymap has been deprecated. Use DataFrame.map instead.\n",
      "  df = df.applymap(\n"
     ]
    },
    {
     "name": "stdout",
     "output_type": "stream",
     "text": [
      "(140706, 88)\n"
     ]
    },
    {
     "data": {
      "text/html": [
       "<div>\n",
       "<style scoped>\n",
       "    .dataframe tbody tr th:only-of-type {\n",
       "        vertical-align: middle;\n",
       "    }\n",
       "\n",
       "    .dataframe tbody tr th {\n",
       "        vertical-align: top;\n",
       "    }\n",
       "\n",
       "    .dataframe thead th {\n",
       "        text-align: right;\n",
       "    }\n",
       "</style>\n",
       "<table border=\"1\" class=\"dataframe\">\n",
       "  <thead>\n",
       "    <tr style=\"text-align: right;\">\n",
       "      <th></th>\n",
       "      <th>ORIGEM</th>\n",
       "      <th>TIPOBITO</th>\n",
       "      <th>DTOBITO</th>\n",
       "      <th>HORAOBITO</th>\n",
       "      <th>NATURAL</th>\n",
       "      <th>CODMUNNATU</th>\n",
       "      <th>DTNASC</th>\n",
       "      <th>IDADE</th>\n",
       "      <th>SEXO</th>\n",
       "      <th>RACACOR</th>\n",
       "      <th>...</th>\n",
       "      <th>FONTES</th>\n",
       "      <th>TPRESGINFO</th>\n",
       "      <th>TPNIVELINV</th>\n",
       "      <th>NUDIASINF</th>\n",
       "      <th>DTCADINF</th>\n",
       "      <th>MORTEPARTO</th>\n",
       "      <th>DTCONCASO</th>\n",
       "      <th>FONTESINF</th>\n",
       "      <th>ALTCAUSA</th>\n",
       "      <th>CONTADOR</th>\n",
       "    </tr>\n",
       "  </thead>\n",
       "  <tbody>\n",
       "    <tr>\n",
       "      <th>0</th>\n",
       "      <td>1</td>\n",
       "      <td>2</td>\n",
       "      <td>23022018</td>\n",
       "      <td>0530</td>\n",
       "      <td>833</td>\n",
       "      <td>330455</td>\n",
       "      <td>20121935</td>\n",
       "      <td>482</td>\n",
       "      <td>2</td>\n",
       "      <td>1</td>\n",
       "      <td>...</td>\n",
       "      <td></td>\n",
       "      <td></td>\n",
       "      <td></td>\n",
       "      <td></td>\n",
       "      <td></td>\n",
       "      <td></td>\n",
       "      <td></td>\n",
       "      <td></td>\n",
       "      <td></td>\n",
       "      <td>1</td>\n",
       "    </tr>\n",
       "    <tr>\n",
       "      <th>1</th>\n",
       "      <td>1</td>\n",
       "      <td>2</td>\n",
       "      <td>07042018</td>\n",
       "      <td>0945</td>\n",
       "      <td>833</td>\n",
       "      <td>330630</td>\n",
       "      <td>23031948</td>\n",
       "      <td>470</td>\n",
       "      <td>2</td>\n",
       "      <td>1</td>\n",
       "      <td>...</td>\n",
       "      <td></td>\n",
       "      <td></td>\n",
       "      <td></td>\n",
       "      <td></td>\n",
       "      <td></td>\n",
       "      <td></td>\n",
       "      <td></td>\n",
       "      <td></td>\n",
       "      <td></td>\n",
       "      <td>2</td>\n",
       "    </tr>\n",
       "    <tr>\n",
       "      <th>2</th>\n",
       "      <td>1</td>\n",
       "      <td>2</td>\n",
       "      <td>24042018</td>\n",
       "      <td>0940</td>\n",
       "      <td>833</td>\n",
       "      <td>330630</td>\n",
       "      <td>24031931</td>\n",
       "      <td>487</td>\n",
       "      <td>2</td>\n",
       "      <td>1</td>\n",
       "      <td>...</td>\n",
       "      <td></td>\n",
       "      <td></td>\n",
       "      <td></td>\n",
       "      <td></td>\n",
       "      <td></td>\n",
       "      <td></td>\n",
       "      <td></td>\n",
       "      <td></td>\n",
       "      <td></td>\n",
       "      <td>3</td>\n",
       "    </tr>\n",
       "    <tr>\n",
       "      <th>3</th>\n",
       "      <td>1</td>\n",
       "      <td>2</td>\n",
       "      <td>17012018</td>\n",
       "      <td>1215</td>\n",
       "      <td>833</td>\n",
       "      <td>330630</td>\n",
       "      <td>11011938</td>\n",
       "      <td>480</td>\n",
       "      <td>1</td>\n",
       "      <td>1</td>\n",
       "      <td>...</td>\n",
       "      <td></td>\n",
       "      <td></td>\n",
       "      <td></td>\n",
       "      <td></td>\n",
       "      <td></td>\n",
       "      <td></td>\n",
       "      <td></td>\n",
       "      <td></td>\n",
       "      <td></td>\n",
       "      <td>4</td>\n",
       "    </tr>\n",
       "    <tr>\n",
       "      <th>4</th>\n",
       "      <td>1</td>\n",
       "      <td>2</td>\n",
       "      <td>18082018</td>\n",
       "      <td>1600</td>\n",
       "      <td>833</td>\n",
       "      <td>330630</td>\n",
       "      <td>15081927</td>\n",
       "      <td>491</td>\n",
       "      <td>2</td>\n",
       "      <td>1</td>\n",
       "      <td>...</td>\n",
       "      <td></td>\n",
       "      <td></td>\n",
       "      <td></td>\n",
       "      <td></td>\n",
       "      <td></td>\n",
       "      <td></td>\n",
       "      <td></td>\n",
       "      <td></td>\n",
       "      <td></td>\n",
       "      <td>5</td>\n",
       "    </tr>\n",
       "  </tbody>\n",
       "</table>\n",
       "<p>5 rows × 88 columns</p>\n",
       "</div>"
      ],
      "text/plain": [
       "  ORIGEM TIPOBITO   DTOBITO HORAOBITO NATURAL CODMUNNATU    DTNASC IDADE  \\\n",
       "0      1        2  23022018     0530      833    330455   20121935   482   \n",
       "1      1        2  07042018     0945      833    330630   23031948   470   \n",
       "2      1        2  24042018     0940      833    330630   24031931   487   \n",
       "3      1        2  17012018     1215      833    330630   11011938   480   \n",
       "4      1        2  18082018     1600      833    330630   15081927   491   \n",
       "\n",
       "   SEXO RACACOR  ... FONTES TPRESGINFO TPNIVELINV NUDIASINF DTCADINF  \\\n",
       "0     2       1  ...                                                   \n",
       "1     2       1  ...                                                   \n",
       "2     2       1  ...                                                   \n",
       "3     1       1  ...                                                   \n",
       "4     2       1  ...                                                   \n",
       "\n",
       "   MORTEPARTO DTCONCASO FONTESINF ALTCAUSA  CONTADOR  \n",
       "0                                           1         \n",
       "1                                           2         \n",
       "2                                           3         \n",
       "3                                           4         \n",
       "4                                           5         \n",
       "\n",
       "[5 rows x 88 columns]"
      ]
     },
     "execution_count": 10,
     "metadata": {},
     "output_type": "execute_result"
    }
   ],
   "source": [
    "import os \n",
    "df = arquivos.to_dataframe()\n",
    "print(df.shape)\n",
    "df.head()"
   ]
  },
  {
   "cell_type": "markdown",
   "metadata": {},
   "source": [
    "Neste exemplo foi possível carregar todos os dados de mortalidade do estado do Rio de Janeiro em 2018 para um único dataframe. Mas caso seu computador não consiga acomodar na memória RAM todos os dados de uma vez, Você os pode carregar em partes. Vejamos como:"
   ]
  },
  {
   "cell_type": "code",
   "execution_count": 6,
   "metadata": {},
   "outputs": [],
   "source": [
    "import glob\n",
    "import pandas as pd"
   ]
  },
  {
   "cell_type": "markdown",
   "metadata": {},
   "source": [
    "A função glob nos permite listar todos os arquivos de um diretório. No exemplo abaixo, listamos todos os arquivos do diretório de cache contendo os dados que acabamos de baixar."
   ]
  },
  {
   "cell_type": "code",
   "execution_count": 7,
   "metadata": {},
   "outputs": [
    {
     "data": {
      "text/plain": [
       "['/home/fccoelho/pysus/DORJ2018.parquet/049b523cd5b9483796b2b156fcd59ffe-0.parquet',\n",
       " '/home/fccoelho/pysus/DORJ2018.parquet/590e1db1772642de95dc19e71b037f0e-0.parquet',\n",
       " '/home/fccoelho/pysus/DORJ2018.parquet/864dea10fffe44208b3136b166757ce3-0.parquet',\n",
       " '/home/fccoelho/pysus/DORJ2018.parquet/81a90548316a42469545bd74910d970b-0.parquet',\n",
       " '/home/fccoelho/pysus/DORJ2018.parquet/1fd35de2832341779e4bdada13f66a89-0.parquet']"
      ]
     },
     "execution_count": 7,
     "metadata": {},
     "output_type": "execute_result"
    }
   ],
   "source": [
    "glob.glob(f'{arquivos.path}/*.parquet')"
   ]
  },
  {
   "cell_type": "markdown",
   "metadata": {},
   "source": [
    "Com um pouco mais de código, podemos um arquivo de cada vez. Vejamos como:"
   ]
  },
  {
   "cell_type": "code",
   "execution_count": 8,
   "metadata": {},
   "outputs": [
    {
     "name": "stdout",
     "output_type": "stream",
     "text": [
      "(30000, 88)\n",
      "(30000, 88)\n",
      "(30000, 88)\n",
      "(30000, 88)\n",
      "(20706, 88)\n"
     ]
    },
    {
     "data": {
      "text/html": [
       "<div>\n",
       "<style scoped>\n",
       "    .dataframe tbody tr th:only-of-type {\n",
       "        vertical-align: middle;\n",
       "    }\n",
       "\n",
       "    .dataframe tbody tr th {\n",
       "        vertical-align: top;\n",
       "    }\n",
       "\n",
       "    .dataframe thead th {\n",
       "        text-align: right;\n",
       "    }\n",
       "</style>\n",
       "<table border=\"1\" class=\"dataframe\">\n",
       "  <thead>\n",
       "    <tr style=\"text-align: right;\">\n",
       "      <th></th>\n",
       "      <th>ORIGEM</th>\n",
       "      <th>TIPOBITO</th>\n",
       "      <th>DTOBITO</th>\n",
       "      <th>HORAOBITO</th>\n",
       "      <th>NATURAL</th>\n",
       "      <th>CODMUNNATU</th>\n",
       "      <th>DTNASC</th>\n",
       "      <th>IDADE</th>\n",
       "      <th>SEXO</th>\n",
       "      <th>RACACOR</th>\n",
       "      <th>...</th>\n",
       "      <th>FONTES</th>\n",
       "      <th>TPRESGINFO</th>\n",
       "      <th>TPNIVELINV</th>\n",
       "      <th>NUDIASINF</th>\n",
       "      <th>DTCADINF</th>\n",
       "      <th>MORTEPARTO</th>\n",
       "      <th>DTCONCASO</th>\n",
       "      <th>FONTESINF</th>\n",
       "      <th>ALTCAUSA</th>\n",
       "      <th>CONTADOR</th>\n",
       "    </tr>\n",
       "  </thead>\n",
       "  <tbody>\n",
       "    <tr>\n",
       "      <th>0</th>\n",
       "      <td>1</td>\n",
       "      <td>2</td>\n",
       "      <td>25082018</td>\n",
       "      <td>1142</td>\n",
       "      <td>833</td>\n",
       "      <td>330455</td>\n",
       "      <td>01091950</td>\n",
       "      <td>467</td>\n",
       "      <td>1</td>\n",
       "      <td>4</td>\n",
       "      <td>...</td>\n",
       "      <td></td>\n",
       "      <td></td>\n",
       "      <td></td>\n",
       "      <td></td>\n",
       "      <td></td>\n",
       "      <td></td>\n",
       "      <td></td>\n",
       "      <td></td>\n",
       "      <td></td>\n",
       "      <td>1098464</td>\n",
       "    </tr>\n",
       "    <tr>\n",
       "      <th>1</th>\n",
       "      <td>1</td>\n",
       "      <td>2</td>\n",
       "      <td>03112018</td>\n",
       "      <td>1015</td>\n",
       "      <td>833</td>\n",
       "      <td>330455</td>\n",
       "      <td>12071972</td>\n",
       "      <td>446</td>\n",
       "      <td>2</td>\n",
       "      <td>1</td>\n",
       "      <td>...</td>\n",
       "      <td></td>\n",
       "      <td></td>\n",
       "      <td>M</td>\n",
       "      <td></td>\n",
       "      <td></td>\n",
       "      <td></td>\n",
       "      <td></td>\n",
       "      <td></td>\n",
       "      <td></td>\n",
       "      <td>1098465</td>\n",
       "    </tr>\n",
       "    <tr>\n",
       "      <th>2</th>\n",
       "      <td>1</td>\n",
       "      <td>2</td>\n",
       "      <td>14122018</td>\n",
       "      <td>0910</td>\n",
       "      <td>833</td>\n",
       "      <td>330455</td>\n",
       "      <td>23091934</td>\n",
       "      <td>484</td>\n",
       "      <td>2</td>\n",
       "      <td>2</td>\n",
       "      <td>...</td>\n",
       "      <td></td>\n",
       "      <td></td>\n",
       "      <td></td>\n",
       "      <td></td>\n",
       "      <td></td>\n",
       "      <td></td>\n",
       "      <td></td>\n",
       "      <td></td>\n",
       "      <td></td>\n",
       "      <td>1098466</td>\n",
       "    </tr>\n",
       "    <tr>\n",
       "      <th>3</th>\n",
       "      <td>1</td>\n",
       "      <td>2</td>\n",
       "      <td>25092018</td>\n",
       "      <td>2310</td>\n",
       "      <td>833</td>\n",
       "      <td>330455</td>\n",
       "      <td>31071950</td>\n",
       "      <td>468</td>\n",
       "      <td>1</td>\n",
       "      <td>1</td>\n",
       "      <td>...</td>\n",
       "      <td></td>\n",
       "      <td></td>\n",
       "      <td></td>\n",
       "      <td></td>\n",
       "      <td></td>\n",
       "      <td></td>\n",
       "      <td></td>\n",
       "      <td></td>\n",
       "      <td></td>\n",
       "      <td>1098467</td>\n",
       "    </tr>\n",
       "    <tr>\n",
       "      <th>4</th>\n",
       "      <td>1</td>\n",
       "      <td>2</td>\n",
       "      <td>18112018</td>\n",
       "      <td>0800</td>\n",
       "      <td>833</td>\n",
       "      <td>330000</td>\n",
       "      <td>12011929</td>\n",
       "      <td>489</td>\n",
       "      <td>2</td>\n",
       "      <td>1</td>\n",
       "      <td>...</td>\n",
       "      <td></td>\n",
       "      <td></td>\n",
       "      <td></td>\n",
       "      <td></td>\n",
       "      <td></td>\n",
       "      <td></td>\n",
       "      <td></td>\n",
       "      <td></td>\n",
       "      <td></td>\n",
       "      <td>1098468</td>\n",
       "    </tr>\n",
       "  </tbody>\n",
       "</table>\n",
       "<p>5 rows × 88 columns</p>\n",
       "</div>"
      ],
      "text/plain": [
       "  ORIGEM TIPOBITO   DTOBITO HORAOBITO NATURAL CODMUNNATU    DTNASC IDADE SEXO  \\\n",
       "0      1        2  25082018     1142      833    330455   01091950   467    1   \n",
       "1      1        2  03112018     1015      833    330455   12071972   446    2   \n",
       "2      1        2  14122018     0910      833    330455   23091934   484    2   \n",
       "3      1        2  25092018     2310      833    330455   31071950   468    1   \n",
       "4      1        2  18112018     0800      833    330000   12011929   489    2   \n",
       "\n",
       "  RACACOR  ...  FONTES TPRESGINFO TPNIVELINV NUDIASINF  DTCADINF MORTEPARTO  \\\n",
       "0       4  ...                                                                \n",
       "1       1  ...                             M                                  \n",
       "2       2  ...                                                                \n",
       "3       1  ...                                                                \n",
       "4       1  ...                                                                \n",
       "\n",
       "  DTCONCASO FONTESINF ALTCAUSA  CONTADOR  \n",
       "0                               1098464   \n",
       "1                               1098465   \n",
       "2                               1098466   \n",
       "3                               1098467   \n",
       "4                               1098468   \n",
       "\n",
       "[5 rows x 88 columns]"
      ]
     },
     "execution_count": 8,
     "metadata": {},
     "output_type": "execute_result"
    }
   ],
   "source": [
    "for arq in glob.glob(f'{arquivos.path}/*.parquet'):\n",
    "    df = pd.read_parquet(arq)\n",
    "    print(df.shape)\n",
    "df.head()"
   ]
  },
  {
   "cell_type": "code",
   "execution_count": null,
   "metadata": {},
   "outputs": [],
   "source": []
  }
 ],
 "metadata": {
  "colab": {
   "authorship_tag": "ABX9TyP9XFb9GnZ0pDuwyhqvRr05",
   "include_colab_link": true,
   "provenance": []
  },
  "kernelspec": {
   "display_name": ".venv",
   "language": "python",
   "name": "python3"
  },
  "language_info": {
   "codemirror_mode": {
    "name": "ipython",
    "version": 3
   },
   "file_extension": ".py",
   "mimetype": "text/x-python",
   "name": "python",
   "nbconvert_exporter": "python",
   "pygments_lexer": "ipython3",
   "version": "3.11.6"
  }
 },
 "nbformat": 4,
 "nbformat_minor": 0
}
