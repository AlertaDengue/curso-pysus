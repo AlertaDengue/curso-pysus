{
 "nbformat": 4,
 "nbformat_minor": 0,
 "metadata": {
  "colab": {
   "provenance": [],
   "authorship_tag": "ABX9TyP9XFb9GnZ0pDuwyhqvRr05",
   "include_colab_link": true
  },
  "kernelspec": {
   "name": "python3",
   "display_name": "Python 3"
  },
  "language_info": {
   "name": "python"
  }
 },
 "cells": [
  {
   "cell_type": "markdown",
   "metadata": {
    "id": "view-in-github",
    "colab_type": "text"
   },
   "source": [
    "<a href=\"https://colab.research.google.com/github/AlertaDengue/curso-pysus/blob/main/Primeiros_Passos.ipynb\" target=\"_parent\"><img src=\"https://colab.research.google.com/assets/colab-badge.svg\" alt=\"Open In Colab\"/></a>"
   ]
  },
  {
   "cell_type": "markdown",
   "source": [
    "# Instalando o PySUS\n",
    "Para instalar o PySUS, basta executar o comando abaixo:"
   ],
   "metadata": {
    "collapsed": false
   }
  },
  {
   "cell_type": "code",
   "execution_count": null,
   "metadata": {
    "id": "hK_EwDxwj2DN"
   },
   "outputs": [],
   "source": [
    "!pip install PySUS"
   ]
  },
  {
   "cell_type": "markdown",
   "source": [
    "Se você está utilizando o Google Colab, lembre-se de reiniciar o ambiente de execução após a instalação."
   ],
   "metadata": {
    "collapsed": false
   }
  },
  {
   "cell_type": "markdown",
   "source": [
    "# Explorando as funcionalidades do PySUS\n",
    "O PySUS é uma biblioteca que permite o acesso a dados públicos do SUS. Atualmente, o PySUS permite o acesso a dados do SINAN, SIHSUS, SIA, SIM, SINASCe CNES, dentre outras.\n",
    "\n",
    "Além dos dados do DATASUS, o PySUS também facilita o acesso a dados de outras fontes, como o IBGE, e os projetos InfoGripe e InfoDengue."
   ],
   "metadata": {
    "collapsed": false
   }
  },
  {
   "cell_type": "code",
   "execution_count": null,
   "outputs": [],
   "source": [
    "from pysus.online_data import SINAN, FTP_Inspect, parquets_to_dataframe\n",
    "import pandas as pd"
   ],
   "metadata": {
    "collapsed": false
   }
  }
 ]
}
